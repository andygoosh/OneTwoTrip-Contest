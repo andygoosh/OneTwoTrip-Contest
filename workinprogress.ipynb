{
  "nbformat": 4,
  "nbformat_minor": 0,
  "metadata": {
    "colab": {
      "name": "workinprogress.ipynb",
      "provenance": [],
      "collapsed_sections": [],
      "include_colab_link": true
    },
    "kernelspec": {
      "name": "python3",
      "display_name": "Python 3"
    },
    "accelerator": "GPU",
    "widgets": {
      "application/vnd.jupyter.widget-state+json": {
        "afcd8b7c6b514be7b7b862c557f0b9fe": {
          "model_module": "@jupyter-widgets/controls",
          "model_name": "HBoxModel",
          "state": {
            "_view_name": "HBoxView",
            "_dom_classes": [],
            "_model_name": "HBoxModel",
            "_view_module": "@jupyter-widgets/controls",
            "_model_module_version": "1.5.0",
            "_view_count": null,
            "_view_module_version": "1.5.0",
            "box_style": "",
            "layout": "IPY_MODEL_8eb3bcea0a5d4652b2293e4014310520",
            "_model_module": "@jupyter-widgets/controls",
            "children": [
              "IPY_MODEL_cfab536b49354b81bea6e6afdb9c44c6",
              "IPY_MODEL_3e3b869ccd6447d8b5d32a691f2a8ae4"
            ]
          }
        },
        "8eb3bcea0a5d4652b2293e4014310520": {
          "model_module": "@jupyter-widgets/base",
          "model_name": "LayoutModel",
          "state": {
            "_view_name": "LayoutView",
            "grid_template_rows": null,
            "right": null,
            "justify_content": null,
            "_view_module": "@jupyter-widgets/base",
            "overflow": null,
            "_model_module_version": "1.2.0",
            "_view_count": null,
            "flex_flow": null,
            "width": null,
            "min_width": null,
            "border": null,
            "align_items": null,
            "bottom": null,
            "_model_module": "@jupyter-widgets/base",
            "top": null,
            "grid_column": null,
            "overflow_y": null,
            "overflow_x": null,
            "grid_auto_flow": null,
            "grid_area": null,
            "grid_template_columns": null,
            "flex": null,
            "_model_name": "LayoutModel",
            "justify_items": null,
            "grid_row": null,
            "max_height": null,
            "align_content": null,
            "visibility": null,
            "align_self": null,
            "height": null,
            "min_height": null,
            "padding": null,
            "grid_auto_rows": null,
            "grid_gap": null,
            "max_width": null,
            "order": null,
            "_view_module_version": "1.2.0",
            "grid_template_areas": null,
            "object_position": null,
            "object_fit": null,
            "grid_auto_columns": null,
            "margin": null,
            "display": null,
            "left": null
          }
        },
        "cfab536b49354b81bea6e6afdb9c44c6": {
          "model_module": "@jupyter-widgets/controls",
          "model_name": "IntProgressModel",
          "state": {
            "_view_name": "ProgressView",
            "style": "IPY_MODEL_a66a035601c7490d8f1508fafbfef83c",
            "_dom_classes": [],
            "description": "",
            "_model_name": "IntProgressModel",
            "bar_style": "success",
            "max": 30,
            "_view_module": "@jupyter-widgets/controls",
            "_model_module_version": "1.5.0",
            "value": 30,
            "_view_count": null,
            "_view_module_version": "1.5.0",
            "orientation": "horizontal",
            "min": 0,
            "description_tooltip": null,
            "_model_module": "@jupyter-widgets/controls",
            "layout": "IPY_MODEL_978e70031c5e448a962a059047ac7a69"
          }
        },
        "3e3b869ccd6447d8b5d32a691f2a8ae4": {
          "model_module": "@jupyter-widgets/controls",
          "model_name": "HTMLModel",
          "state": {
            "_view_name": "HTMLView",
            "style": "IPY_MODEL_76cc45d0e9aa4c659c5bcbd655b5fe5f",
            "_dom_classes": [],
            "description": "",
            "_model_name": "HTMLModel",
            "placeholder": "​",
            "_view_module": "@jupyter-widgets/controls",
            "_model_module_version": "1.5.0",
            "value": "100% 30/30 [17:16&lt;00:00, 34.61s/it]",
            "_view_count": null,
            "_view_module_version": "1.5.0",
            "description_tooltip": null,
            "_model_module": "@jupyter-widgets/controls",
            "layout": "IPY_MODEL_b59fbdde2e574a0e96256aa624ffb1f0"
          }
        },
        "a66a035601c7490d8f1508fafbfef83c": {
          "model_module": "@jupyter-widgets/controls",
          "model_name": "ProgressStyleModel",
          "state": {
            "_view_name": "StyleView",
            "_model_name": "ProgressStyleModel",
            "description_width": "",
            "_view_module": "@jupyter-widgets/base",
            "_model_module_version": "1.5.0",
            "_view_count": null,
            "_view_module_version": "1.2.0",
            "bar_color": null,
            "_model_module": "@jupyter-widgets/controls"
          }
        },
        "978e70031c5e448a962a059047ac7a69": {
          "model_module": "@jupyter-widgets/base",
          "model_name": "LayoutModel",
          "state": {
            "_view_name": "LayoutView",
            "grid_template_rows": null,
            "right": null,
            "justify_content": null,
            "_view_module": "@jupyter-widgets/base",
            "overflow": null,
            "_model_module_version": "1.2.0",
            "_view_count": null,
            "flex_flow": null,
            "width": null,
            "min_width": null,
            "border": null,
            "align_items": null,
            "bottom": null,
            "_model_module": "@jupyter-widgets/base",
            "top": null,
            "grid_column": null,
            "overflow_y": null,
            "overflow_x": null,
            "grid_auto_flow": null,
            "grid_area": null,
            "grid_template_columns": null,
            "flex": null,
            "_model_name": "LayoutModel",
            "justify_items": null,
            "grid_row": null,
            "max_height": null,
            "align_content": null,
            "visibility": null,
            "align_self": null,
            "height": null,
            "min_height": null,
            "padding": null,
            "grid_auto_rows": null,
            "grid_gap": null,
            "max_width": null,
            "order": null,
            "_view_module_version": "1.2.0",
            "grid_template_areas": null,
            "object_position": null,
            "object_fit": null,
            "grid_auto_columns": null,
            "margin": null,
            "display": null,
            "left": null
          }
        },
        "76cc45d0e9aa4c659c5bcbd655b5fe5f": {
          "model_module": "@jupyter-widgets/controls",
          "model_name": "DescriptionStyleModel",
          "state": {
            "_view_name": "StyleView",
            "_model_name": "DescriptionStyleModel",
            "description_width": "",
            "_view_module": "@jupyter-widgets/base",
            "_model_module_version": "1.5.0",
            "_view_count": null,
            "_view_module_version": "1.2.0",
            "_model_module": "@jupyter-widgets/controls"
          }
        },
        "b59fbdde2e574a0e96256aa624ffb1f0": {
          "model_module": "@jupyter-widgets/base",
          "model_name": "LayoutModel",
          "state": {
            "_view_name": "LayoutView",
            "grid_template_rows": null,
            "right": null,
            "justify_content": null,
            "_view_module": "@jupyter-widgets/base",
            "overflow": null,
            "_model_module_version": "1.2.0",
            "_view_count": null,
            "flex_flow": null,
            "width": null,
            "min_width": null,
            "border": null,
            "align_items": null,
            "bottom": null,
            "_model_module": "@jupyter-widgets/base",
            "top": null,
            "grid_column": null,
            "overflow_y": null,
            "overflow_x": null,
            "grid_auto_flow": null,
            "grid_area": null,
            "grid_template_columns": null,
            "flex": null,
            "_model_name": "LayoutModel",
            "justify_items": null,
            "grid_row": null,
            "max_height": null,
            "align_content": null,
            "visibility": null,
            "align_self": null,
            "height": null,
            "min_height": null,
            "padding": null,
            "grid_auto_rows": null,
            "grid_gap": null,
            "max_width": null,
            "order": null,
            "_view_module_version": "1.2.0",
            "grid_template_areas": null,
            "object_position": null,
            "object_fit": null,
            "grid_auto_columns": null,
            "margin": null,
            "display": null,
            "left": null
          }
        }
      }
    }
  },
  "cells": [
    {
      "cell_type": "markdown",
      "metadata": {
        "id": "view-in-github",
        "colab_type": "text"
      },
      "source": [
        "<a href=\"https://colab.research.google.com/github/andygoosh/OneTwoTrip-Contest/blob/master/workinprogress.ipynb\" target=\"_parent\"><img src=\"https://colab.research.google.com/assets/colab-badge.svg\" alt=\"Open In Colab\"/></a>"
      ]
    },
    {
      "cell_type": "code",
      "metadata": {
        "id": "0XN0GytZLdqD",
        "colab_type": "code",
        "outputId": "839eb1c9-5451-447e-a886-ebbd466b1e67",
        "colab": {
          "base_uri": "https://localhost:8080/",
          "height": 241
        }
      },
      "source": [
        "import sklearn\n",
        "if '0.22' != sklearn.__version__:\n",
        "  !pip install -U scikit-learn\n",
        "  import os\n",
        "  os.kill(os.getpid(), 9)\n",
        "\n",
        "try:\n",
        "  # %tensorflow_version only exists in Colab.\n",
        "  %tensorflow_version 2.x\n",
        "except Exception:\n",
        "  pass\n",
        "\n",
        "#%load_ext tensorboard\n",
        "\n",
        "%pylab inline\n",
        "plt.style.use(\"bmh\")\n",
        "plt.rcParams[\"figure.figsize\"] = (6,6)\n",
        "\n",
        "import random as rn\n",
        "import pandas as pd\n",
        "import xarray\n",
        "import requests\n",
        "import datetime\n",
        "\n",
        "import os\n",
        "import numpy as np\n",
        "from datetime import timedelta\n",
        "from tqdm import tqdm_notebook as tqdm\n",
        "import sklearn as skl\n",
        "import seaborn as sns\n",
        "import xgboost as xgb\n",
        "from pathlib import Path\n",
        "from google.colab import files\n",
        "from scipy.stats import uniform as sp_randFloat\n",
        "from scipy.stats import randint as sp_randInt\n",
        "\n",
        "import tensorflow as tf\n",
        "import tensorflow.keras as keras\n",
        "\n",
        "print(tf.test.gpu_device_name())\n",
        "print(tf.__version__)\n",
        "print(keras.__version__)\n",
        "print(sklearn.__version__)\n",
        "assert ('0.22' == sklearn.__version__)\n",
        "\n",
        "from keras import layers\n",
        "from keras.callbacks import TensorBoard\n",
        "from xgboost import XGBClassifier\n",
        "from lightgbm import LGBMClassifier\n",
        "from sklearn.ensemble import GradientBoostingClassifier\n",
        "from sklearn.model_selection import GridSearchCV, StratifiedKFold, KFold, RandomizedSearchCV, cross_val_score, cross_val_score\n",
        "from sklearn.calibration import CalibratedClassifierCV\n",
        "from imblearn.over_sampling import SMOTE\n",
        "from imblearn.under_sampling import RandomUnderSampler\n",
        "from sklearn.utils import resample\n",
        "from sklearn.pipeline import make_pipeline\n",
        "from sklearn.inspection import permutation_importance\n",
        "from sklearn.model_selection import train_test_split\n",
        "from sklearn.preprocessing import OneHotEncoder\n",
        "from sklearn.decomposition import PCA\n",
        "import sklearn.ensemble\n",
        "\n",
        "import warnings\n",
        "logger = tf.get_logger()\n",
        "logger.setLevel(logging.ERROR)\n",
        "pd.options.display.max_rows = 10\n",
        "pd.options.display.float_format = '{:.6f}'.format\n",
        "\n",
        "RS = 79\n",
        "rn.seed(RS)\n",
        "tf.random.set_seed(RS)\n",
        "np.random.seed(RS)\n",
        "np.random.RandomState(RS)\n",
        "\n"
      ],
      "execution_count": 4,
      "outputs": [
        {
          "output_type": "stream",
          "text": [
            "TensorFlow 2.x selected.\n",
            "Populating the interactive namespace from numpy and matplotlib\n",
            "/device:GPU:0\n",
            "2.0.0\n",
            "2.2.4-tf\n",
            "0.22\n"
          ],
          "name": "stdout"
        },
        {
          "output_type": "stream",
          "text": [
            "Using TensorFlow backend.\n",
            "/usr/local/lib/python3.6/dist-packages/sklearn/externals/six.py:31: FutureWarning: The module is deprecated in version 0.21 and will be removed in version 0.23 since we've dropped support for Python 2.7. Please rely on the official version of six (https://pypi.org/project/six/).\n",
            "  \"(https://pypi.org/project/six/).\", FutureWarning)\n",
            "/usr/local/lib/python3.6/dist-packages/sklearn/utils/deprecation.py:144: FutureWarning: The sklearn.neighbors.base module is  deprecated in version 0.22 and will be removed in version 0.24. The corresponding classes / functions should instead be imported from sklearn.neighbors. Anything that cannot be imported from sklearn.neighbors is now part of the private API.\n",
            "  warnings.warn(message, FutureWarning)\n"
          ],
          "name": "stderr"
        },
        {
          "output_type": "execute_result",
          "data": {
            "text/plain": [
              "RandomState(MT19937) at 0x7F458FBC1888"
            ]
          },
          "metadata": {
            "tags": []
          },
          "execution_count": 4
        }
      ]
    },
    {
      "cell_type": "code",
      "metadata": {
        "id": "lO42JsYFayf3",
        "colab_type": "code",
        "colab": {
          "base_uri": "https://localhost:8080/",
          "height": 255
        },
        "outputId": "5a52c6db-8421-4e09-fb81-fe7e6f57efa8"
      },
      "source": [
        "def anti_scaler(X):\n",
        "  #Anti-StandardScaler для Field1 и Field14 тиснуто отсюда https://github.com/IlyaSviridov/OneTwoTrip-Contest/blob/master/EDA_fields_1.ipynb\n",
        "  unique14 = np.unique(X['field14'])\n",
        "  new_unique14 = np.round(unique14 / 0.14006639 - 0.27860731).astype(int)\n",
        "  dict14 = {unique14[i]: new_unique14[i] for i in range(len(unique14))}\n",
        "  X['field14'] = X['field14'].apply(lambda x: dict14[x])\n",
        "\n",
        "  unique1 = np.unique(X['field1'])\n",
        "  new_unique1 = np.round(unique1  / 0.077571 + 0.0765905).astype(int)\n",
        "  dict1 = {unique1[i]: new_unique1[i] for i in range(len(unique1))}\n",
        "  X['field1'] = X['field1'].apply(lambda x: dict1[x])\n",
        "  return X\n",
        "\n",
        "df_train = pd.read_csv('https://boosters.pro/api/ch/files/pub/onetwotrip_challenge_train.csv', index_col='orderid') #, dtype={'field1': np.float64, 'field14': np.float64})\n",
        "df_test = pd.read_csv('https://boosters.pro/api/ch/files/pub/onetwotrip_challenge_test.csv', index_col='orderid') #, dtype={'field1': np.float64, 'field14': np.float64})\n",
        "\n",
        "df_train, df_oof = train_test_split(df_train, random_state=RS, shuffle=True, test_size=0.1)\n",
        "\n",
        "df_train = anti_scaler(df_train)\n",
        "df_test = anti_scaler(df_test)\n",
        "df_oof = anti_scaler(df_oof)\n",
        "\n",
        "TARGET = 'goal1'\n",
        "FTS = list(filter(lambda x: 'field' in x, df_train.columns))\n",
        "\n",
        "df_train.head()"
      ],
      "execution_count": 5,
      "outputs": [
        {
          "output_type": "execute_result",
          "data": {
            "text/html": [
              "<div>\n",
              "<style scoped>\n",
              "    .dataframe tbody tr th:only-of-type {\n",
              "        vertical-align: middle;\n",
              "    }\n",
              "\n",
              "    .dataframe tbody tr th {\n",
              "        vertical-align: top;\n",
              "    }\n",
              "\n",
              "    .dataframe thead th {\n",
              "        text-align: right;\n",
              "    }\n",
              "</style>\n",
              "<table border=\"1\" class=\"dataframe\">\n",
              "  <thead>\n",
              "    <tr style=\"text-align: right;\">\n",
              "      <th></th>\n",
              "      <th>userid</th>\n",
              "      <th>field0</th>\n",
              "      <th>field1</th>\n",
              "      <th>field2</th>\n",
              "      <th>field3</th>\n",
              "      <th>field4</th>\n",
              "      <th>field5</th>\n",
              "      <th>field6</th>\n",
              "      <th>field7</th>\n",
              "      <th>field8</th>\n",
              "      <th>field9</th>\n",
              "      <th>field10</th>\n",
              "      <th>field11</th>\n",
              "      <th>field12</th>\n",
              "      <th>field13</th>\n",
              "      <th>field14</th>\n",
              "      <th>field15</th>\n",
              "      <th>field16</th>\n",
              "      <th>field17</th>\n",
              "      <th>field18</th>\n",
              "      <th>field19</th>\n",
              "      <th>field20</th>\n",
              "      <th>field21</th>\n",
              "      <th>field22</th>\n",
              "      <th>field23</th>\n",
              "      <th>field24</th>\n",
              "      <th>field25</th>\n",
              "      <th>field26</th>\n",
              "      <th>field27</th>\n",
              "      <th>field28</th>\n",
              "      <th>field29</th>\n",
              "      <th>indicator_goal21</th>\n",
              "      <th>indicator_goal22</th>\n",
              "      <th>indicator_goal23</th>\n",
              "      <th>indicator_goal24</th>\n",
              "      <th>indicator_goal25</th>\n",
              "      <th>goal21</th>\n",
              "      <th>goal22</th>\n",
              "      <th>goal23</th>\n",
              "      <th>goal24</th>\n",
              "      <th>goal25</th>\n",
              "      <th>goal1</th>\n",
              "    </tr>\n",
              "    <tr>\n",
              "      <th>orderid</th>\n",
              "      <th></th>\n",
              "      <th></th>\n",
              "      <th></th>\n",
              "      <th></th>\n",
              "      <th></th>\n",
              "      <th></th>\n",
              "      <th></th>\n",
              "      <th></th>\n",
              "      <th></th>\n",
              "      <th></th>\n",
              "      <th></th>\n",
              "      <th></th>\n",
              "      <th></th>\n",
              "      <th></th>\n",
              "      <th></th>\n",
              "      <th></th>\n",
              "      <th></th>\n",
              "      <th></th>\n",
              "      <th></th>\n",
              "      <th></th>\n",
              "      <th></th>\n",
              "      <th></th>\n",
              "      <th></th>\n",
              "      <th></th>\n",
              "      <th></th>\n",
              "      <th></th>\n",
              "      <th></th>\n",
              "      <th></th>\n",
              "      <th></th>\n",
              "      <th></th>\n",
              "      <th></th>\n",
              "      <th></th>\n",
              "      <th></th>\n",
              "      <th></th>\n",
              "      <th></th>\n",
              "      <th></th>\n",
              "      <th></th>\n",
              "      <th></th>\n",
              "      <th></th>\n",
              "      <th></th>\n",
              "      <th></th>\n",
              "      <th></th>\n",
              "    </tr>\n",
              "  </thead>\n",
              "  <tbody>\n",
              "    <tr>\n",
              "      <th>21358</th>\n",
              "      <td>7e31ff182f68f7f464a40b1a6c07cf1eed827f237552f3...</td>\n",
              "      <td>0</td>\n",
              "      <td>-7</td>\n",
              "      <td>12</td>\n",
              "      <td>12</td>\n",
              "      <td>8</td>\n",
              "      <td>0</td>\n",
              "      <td>0</td>\n",
              "      <td>1</td>\n",
              "      <td>1</td>\n",
              "      <td>0</td>\n",
              "      <td>1</td>\n",
              "      <td>15</td>\n",
              "      <td>4</td>\n",
              "      <td>60</td>\n",
              "      <td>-5</td>\n",
              "      <td>1</td>\n",
              "      <td>1</td>\n",
              "      <td>1</td>\n",
              "      <td>5</td>\n",
              "      <td>2</td>\n",
              "      <td>6</td>\n",
              "      <td>1</td>\n",
              "      <td>20</td>\n",
              "      <td>12</td>\n",
              "      <td>1</td>\n",
              "      <td>1</td>\n",
              "      <td>12</td>\n",
              "      <td>3</td>\n",
              "      <td>0</td>\n",
              "      <td>4</td>\n",
              "      <td>1</td>\n",
              "      <td>1</td>\n",
              "      <td>0</td>\n",
              "      <td>0</td>\n",
              "      <td>1</td>\n",
              "      <td>0</td>\n",
              "      <td>0</td>\n",
              "      <td>0</td>\n",
              "      <td>0</td>\n",
              "      <td>0</td>\n",
              "      <td>0</td>\n",
              "    </tr>\n",
              "    <tr>\n",
              "      <th>59701</th>\n",
              "      <td>fa0bc3e4f41ffa685552a751da077d0256e01c3e78bd05...</td>\n",
              "      <td>0</td>\n",
              "      <td>-5</td>\n",
              "      <td>7</td>\n",
              "      <td>7</td>\n",
              "      <td>1</td>\n",
              "      <td>1</td>\n",
              "      <td>0</td>\n",
              "      <td>1</td>\n",
              "      <td>1</td>\n",
              "      <td>0</td>\n",
              "      <td>0</td>\n",
              "      <td>19</td>\n",
              "      <td>3</td>\n",
              "      <td>3</td>\n",
              "      <td>-5</td>\n",
              "      <td>2</td>\n",
              "      <td>1</td>\n",
              "      <td>1</td>\n",
              "      <td>3</td>\n",
              "      <td>2</td>\n",
              "      <td>4</td>\n",
              "      <td>1</td>\n",
              "      <td>20</td>\n",
              "      <td>6</td>\n",
              "      <td>2</td>\n",
              "      <td>1</td>\n",
              "      <td>2</td>\n",
              "      <td>1</td>\n",
              "      <td>0</td>\n",
              "      <td>3</td>\n",
              "      <td>1</td>\n",
              "      <td>1</td>\n",
              "      <td>1</td>\n",
              "      <td>1</td>\n",
              "      <td>1</td>\n",
              "      <td>0</td>\n",
              "      <td>1</td>\n",
              "      <td>0</td>\n",
              "      <td>0</td>\n",
              "      <td>0</td>\n",
              "      <td>0</td>\n",
              "    </tr>\n",
              "    <tr>\n",
              "      <th>111030</th>\n",
              "      <td>a4c8c5bbace64b9517278d80f44436ade37e7fca0f54bc...</td>\n",
              "      <td>0</td>\n",
              "      <td>-7</td>\n",
              "      <td>11</td>\n",
              "      <td>11</td>\n",
              "      <td>1</td>\n",
              "      <td>1</td>\n",
              "      <td>0</td>\n",
              "      <td>1</td>\n",
              "      <td>1</td>\n",
              "      <td>0</td>\n",
              "      <td>0</td>\n",
              "      <td>23</td>\n",
              "      <td>3</td>\n",
              "      <td>26</td>\n",
              "      <td>-4</td>\n",
              "      <td>1</td>\n",
              "      <td>1</td>\n",
              "      <td>1</td>\n",
              "      <td>6</td>\n",
              "      <td>1</td>\n",
              "      <td>7</td>\n",
              "      <td>1</td>\n",
              "      <td>1</td>\n",
              "      <td>20</td>\n",
              "      <td>1</td>\n",
              "      <td>1</td>\n",
              "      <td>1</td>\n",
              "      <td>1</td>\n",
              "      <td>0</td>\n",
              "      <td>4</td>\n",
              "      <td>1</td>\n",
              "      <td>1</td>\n",
              "      <td>1</td>\n",
              "      <td>0</td>\n",
              "      <td>0</td>\n",
              "      <td>1</td>\n",
              "      <td>1</td>\n",
              "      <td>0</td>\n",
              "      <td>0</td>\n",
              "      <td>0</td>\n",
              "      <td>0</td>\n",
              "    </tr>\n",
              "    <tr>\n",
              "      <th>27535</th>\n",
              "      <td>4f75aaadec883150d3a22c9804f3936377a0e3466d5094...</td>\n",
              "      <td>0</td>\n",
              "      <td>-7</td>\n",
              "      <td>11</td>\n",
              "      <td>11</td>\n",
              "      <td>1</td>\n",
              "      <td>1</td>\n",
              "      <td>0</td>\n",
              "      <td>2</td>\n",
              "      <td>1</td>\n",
              "      <td>0</td>\n",
              "      <td>1</td>\n",
              "      <td>23</td>\n",
              "      <td>2</td>\n",
              "      <td>12</td>\n",
              "      <td>-4</td>\n",
              "      <td>1</td>\n",
              "      <td>6</td>\n",
              "      <td>3</td>\n",
              "      <td>5</td>\n",
              "      <td>3</td>\n",
              "      <td>4</td>\n",
              "      <td>1</td>\n",
              "      <td>1</td>\n",
              "      <td>13</td>\n",
              "      <td>1</td>\n",
              "      <td>1</td>\n",
              "      <td>1</td>\n",
              "      <td>1</td>\n",
              "      <td>0</td>\n",
              "      <td>4</td>\n",
              "      <td>1</td>\n",
              "      <td>1</td>\n",
              "      <td>1</td>\n",
              "      <td>1</td>\n",
              "      <td>1</td>\n",
              "      <td>0</td>\n",
              "      <td>0</td>\n",
              "      <td>0</td>\n",
              "      <td>0</td>\n",
              "      <td>0</td>\n",
              "      <td>0</td>\n",
              "    </tr>\n",
              "    <tr>\n",
              "      <th>17868</th>\n",
              "      <td>cd2ac0e7cfcd4e1fadbc62d1c34722bf79279099492ce8...</td>\n",
              "      <td>0</td>\n",
              "      <td>25</td>\n",
              "      <td>8</td>\n",
              "      <td>8</td>\n",
              "      <td>1</td>\n",
              "      <td>0</td>\n",
              "      <td>0</td>\n",
              "      <td>1</td>\n",
              "      <td>1</td>\n",
              "      <td>0</td>\n",
              "      <td>0</td>\n",
              "      <td>0</td>\n",
              "      <td>3</td>\n",
              "      <td>4</td>\n",
              "      <td>-3</td>\n",
              "      <td>9</td>\n",
              "      <td>4</td>\n",
              "      <td>1</td>\n",
              "      <td>3</td>\n",
              "      <td>1</td>\n",
              "      <td>6</td>\n",
              "      <td>1</td>\n",
              "      <td>1</td>\n",
              "      <td>11</td>\n",
              "      <td>4</td>\n",
              "      <td>1</td>\n",
              "      <td>1</td>\n",
              "      <td>1</td>\n",
              "      <td>5</td>\n",
              "      <td>3</td>\n",
              "      <td>1</td>\n",
              "      <td>1</td>\n",
              "      <td>0</td>\n",
              "      <td>1</td>\n",
              "      <td>1</td>\n",
              "      <td>0</td>\n",
              "      <td>1</td>\n",
              "      <td>0</td>\n",
              "      <td>0</td>\n",
              "      <td>0</td>\n",
              "      <td>0</td>\n",
              "    </tr>\n",
              "  </tbody>\n",
              "</table>\n",
              "</div>"
            ],
            "text/plain": [
              "                                                    userid  ...  goal1\n",
              "orderid                                                     ...       \n",
              "21358    7e31ff182f68f7f464a40b1a6c07cf1eed827f237552f3...  ...      0\n",
              "59701    fa0bc3e4f41ffa685552a751da077d0256e01c3e78bd05...  ...      0\n",
              "111030   a4c8c5bbace64b9517278d80f44436ade37e7fca0f54bc...  ...      0\n",
              "27535    4f75aaadec883150d3a22c9804f3936377a0e3466d5094...  ...      0\n",
              "17868    cd2ac0e7cfcd4e1fadbc62d1c34722bf79279099492ce8...  ...      0\n",
              "\n",
              "[5 rows x 42 columns]"
            ]
          },
          "metadata": {
            "tags": []
          },
          "execution_count": 5
        }
      ]
    },
    {
      "cell_type": "code",
      "metadata": {
        "id": "yjybov06X9YX",
        "colab_type": "code",
        "outputId": "b798fdc8-af44-454a-9509-9174418a3d00",
        "colab": {
          "base_uri": "https://localhost:8080/",
          "height": 931
        }
      },
      "source": [
        "fig, ax = plt.subplots(figsize=(15,15))\n",
        "df_train.hist(ax=ax);"
      ],
      "execution_count": 0,
      "outputs": [
        {
          "output_type": "stream",
          "text": [
            "/usr/local/lib/python3.6/dist-packages/ipykernel_launcher.py:2: UserWarning: To output multiple subplots, the figure containing the passed axes is being cleared\n",
            "  \n"
          ],
          "name": "stderr"
        },
        {
          "output_type": "display_data",
          "data": {
            "image/png": "[encoded data removed]",
            "text/plain": [
              "<Figure size 1080x1080 with 42 Axes>"
            ]
          },
          "metadata": {
            "tags": []
          }
        }
      ]
    },
    {
      "cell_type": "code",
      "metadata": {
        "id": "Yg3uhLXzh8m4",
        "colab_type": "code",
        "colab": {}
      },
      "source": [
        "import seaborn as sns\n",
        "sns.boxplot(x=X['14/4'])"
      ],
      "execution_count": 0,
      "outputs": []
    },
    {
      "cell_type": "code",
      "metadata": {
        "id": "XiCbYKami_1A",
        "colab_type": "code",
        "outputId": "0752e97f-b235-461f-d641-811c62997131",
        "colab": {
          "base_uri": "https://localhost:8080/",
          "height": 34
        }
      },
      "source": [
        "df_train['field6'].quantile(0.99)"
      ],
      "execution_count": 0,
      "outputs": [
        {
          "output_type": "execute_result",
          "data": {
            "text/plain": [
              "21.0"
            ]
          },
          "metadata": {
            "tags": []
          },
          "execution_count": 10
        }
      ]
    },
    {
      "cell_type": "code",
      "metadata": {
        "id": "43L0fxBh_95q",
        "colab_type": "code",
        "outputId": "61f6b036-92bc-4e45-f750-c9816d38b540",
        "colab": {
          "base_uri": "https://localhost:8080/",
          "height": 759
        }
      },
      "source": [
        "X = df_train\n",
        "\n",
        "df11 = X.groupby(['field2'])[['field1']].mean()\n",
        "df11.reset_index(inplace=True)\n",
        "fig, ax = plt.subplots(figsize=(10, 6))\n",
        "sns.pointplot(x='field2', y='field1', data=df11, ax=ax);\n",
        "\n",
        "fig, ax = plt.subplots(figsize=(7, 6))\n",
        "sns.countplot(X['field2'], ax=ax);\n",
        "#sns.scatterplot(x='field11', y='field1', data=X, alpha=0.8, ax=ax);"
      ],
      "execution_count": 0,
      "outputs": [
        {
          "output_type": "display_data",
          "data": {
            "image/png": "[encoded data removed]",
            "text/plain": [
              "<Figure size 720x432 with 1 Axes>"
            ]
          },
          "metadata": {
            "tags": []
          }
        },
        {
          "output_type": "display_data",
          "data": {
            "image/png": "[encoded data removed]",
            "text/plain": [
              "<Figure size 504x432 with 1 Axes>"
            ]
          },
          "metadata": {
            "tags": []
          }
        }
      ]
    },
    {
      "cell_type": "code",
      "metadata": {
        "id": "86ioAfGuFZML",
        "colab_type": "code",
        "outputId": "a00dd175-7041-46d3-d5b8-9f43e6a3442f",
        "colab": {
          "base_uri": "https://localhost:8080/",
          "height": 453
        }
      },
      "source": [
        "df_train.describe()\n",
        "df_test.describe()\n",
        "full = pd.concat([df_train, df_test])\n",
        "full.describe()"
      ],
      "execution_count": 0,
      "outputs": [
        {
          "output_type": "stream",
          "text": [
            "/usr/local/lib/python3.6/dist-packages/ipykernel_launcher.py:3: FutureWarning: Sorting because non-concatenation axis is not aligned. A future version\n",
            "of pandas will change to not sort by default.\n",
            "\n",
            "To accept the future behavior, pass 'sort=False'.\n",
            "\n",
            "To retain the current behavior and silence the warning, pass 'sort=True'.\n",
            "\n",
            "  This is separate from the ipykernel package so we can avoid doing imports until\n"
          ],
          "name": "stderr"
        },
        {
          "output_type": "execute_result",
          "data": {
            "text/html": [
              "<div>\n",
              "<style scoped>\n",
              "    .dataframe tbody tr th:only-of-type {\n",
              "        vertical-align: middle;\n",
              "    }\n",
              "\n",
              "    .dataframe tbody tr th {\n",
              "        vertical-align: top;\n",
              "    }\n",
              "\n",
              "    .dataframe thead th {\n",
              "        text-align: right;\n",
              "    }\n",
              "</style>\n",
              "<table border=\"1\" class=\"dataframe\">\n",
              "  <thead>\n",
              "    <tr style=\"text-align: right;\">\n",
              "      <th></th>\n",
              "      <th>field0</th>\n",
              "      <th>field1</th>\n",
              "      <th>field10</th>\n",
              "      <th>field11</th>\n",
              "      <th>field12</th>\n",
              "      <th>field13</th>\n",
              "      <th>field14</th>\n",
              "      <th>field15</th>\n",
              "      <th>field16</th>\n",
              "      <th>field17</th>\n",
              "      <th>field18</th>\n",
              "      <th>field19</th>\n",
              "      <th>field2</th>\n",
              "      <th>field20</th>\n",
              "      <th>field21</th>\n",
              "      <th>field22</th>\n",
              "      <th>field23</th>\n",
              "      <th>field24</th>\n",
              "      <th>field25</th>\n",
              "      <th>field26</th>\n",
              "      <th>field27</th>\n",
              "      <th>field28</th>\n",
              "      <th>field29</th>\n",
              "      <th>field3</th>\n",
              "      <th>field4</th>\n",
              "      <th>field5</th>\n",
              "      <th>field6</th>\n",
              "      <th>field7</th>\n",
              "      <th>field8</th>\n",
              "      <th>field9</th>\n",
              "      <th>goal1</th>\n",
              "      <th>goal21</th>\n",
              "      <th>goal22</th>\n",
              "      <th>goal23</th>\n",
              "      <th>goal24</th>\n",
              "      <th>goal25</th>\n",
              "      <th>indicator_goal21</th>\n",
              "      <th>indicator_goal22</th>\n",
              "      <th>indicator_goal23</th>\n",
              "      <th>indicator_goal24</th>\n",
              "      <th>indicator_goal25</th>\n",
              "    </tr>\n",
              "  </thead>\n",
              "  <tbody>\n",
              "    <tr>\n",
              "      <th>count</th>\n",
              "      <td>631461.000000</td>\n",
              "      <td>631461.000000</td>\n",
              "      <td>631461.000000</td>\n",
              "      <td>631461.000000</td>\n",
              "      <td>631461.000000</td>\n",
              "      <td>631461.000000</td>\n",
              "      <td>631461.000000</td>\n",
              "      <td>631461.000000</td>\n",
              "      <td>631461.000000</td>\n",
              "      <td>631461.000000</td>\n",
              "      <td>631461.000000</td>\n",
              "      <td>631461.000000</td>\n",
              "      <td>631461.000000</td>\n",
              "      <td>631461.000000</td>\n",
              "      <td>631461.000000</td>\n",
              "      <td>631461.000000</td>\n",
              "      <td>631461.000000</td>\n",
              "      <td>631461.000000</td>\n",
              "      <td>631461.000000</td>\n",
              "      <td>631461.000000</td>\n",
              "      <td>631461.000000</td>\n",
              "      <td>631461.000000</td>\n",
              "      <td>631461.000000</td>\n",
              "      <td>631461.000000</td>\n",
              "      <td>631461.000000</td>\n",
              "      <td>631461.000000</td>\n",
              "      <td>631461.000000</td>\n",
              "      <td>631461.000000</td>\n",
              "      <td>631461.000000</td>\n",
              "      <td>631461.000000</td>\n",
              "      <td>176450.000000</td>\n",
              "      <td>176450.000000</td>\n",
              "      <td>176450.000000</td>\n",
              "      <td>176450.000000</td>\n",
              "      <td>176450.000000</td>\n",
              "      <td>176450.000000</td>\n",
              "      <td>631461.000000</td>\n",
              "      <td>631461.000000</td>\n",
              "      <td>631461.000000</td>\n",
              "      <td>631461.000000</td>\n",
              "      <td>631461.000000</td>\n",
              "    </tr>\n",
              "    <tr>\n",
              "      <th>mean</th>\n",
              "      <td>28.398766</td>\n",
              "      <td>0.000035</td>\n",
              "      <td>0.447822</td>\n",
              "      <td>14.615419</td>\n",
              "      <td>11.986484</td>\n",
              "      <td>27.315188</td>\n",
              "      <td>-0.000038</td>\n",
              "      <td>1.518257</td>\n",
              "      <td>15.628192</td>\n",
              "      <td>2.993146</td>\n",
              "      <td>3.809008</td>\n",
              "      <td>2.076066</td>\n",
              "      <td>7.976830</td>\n",
              "      <td>3.989201</td>\n",
              "      <td>1.226880</td>\n",
              "      <td>39.014093</td>\n",
              "      <td>13.045350</td>\n",
              "      <td>1.407138</td>\n",
              "      <td>4.876002</td>\n",
              "      <td>3.900615</td>\n",
              "      <td>1.751917</td>\n",
              "      <td>0.087421</td>\n",
              "      <td>2.979620</td>\n",
              "      <td>7.867233</td>\n",
              "      <td>3.754564</td>\n",
              "      <td>0.556582</td>\n",
              "      <td>1.576412</td>\n",
              "      <td>1.263595</td>\n",
              "      <td>0.879943</td>\n",
              "      <td>0.023697</td>\n",
              "      <td>0.022137</td>\n",
              "      <td>0.036656</td>\n",
              "      <td>0.168507</td>\n",
              "      <td>0.038663</td>\n",
              "      <td>0.022465</td>\n",
              "      <td>0.015211</td>\n",
              "      <td>0.994991</td>\n",
              "      <td>0.979750</td>\n",
              "      <td>0.348294</td>\n",
              "      <td>0.645028</td>\n",
              "      <td>0.647807</td>\n",
              "    </tr>\n",
              "    <tr>\n",
              "      <th>std</th>\n",
              "      <td>69.651831</td>\n",
              "      <td>0.999939</td>\n",
              "      <td>0.497270</td>\n",
              "      <td>5.526270</td>\n",
              "      <td>19.692027</td>\n",
              "      <td>58.235302</td>\n",
              "      <td>1.001244</td>\n",
              "      <td>0.966615</td>\n",
              "      <td>25.436927</td>\n",
              "      <td>8.515411</td>\n",
              "      <td>1.932821</td>\n",
              "      <td>0.977935</td>\n",
              "      <td>2.754806</td>\n",
              "      <td>1.976955</td>\n",
              "      <td>0.418815</td>\n",
              "      <td>74.104875</td>\n",
              "      <td>6.131847</td>\n",
              "      <td>0.799156</td>\n",
              "      <td>11.624236</td>\n",
              "      <td>4.255248</td>\n",
              "      <td>1.379383</td>\n",
              "      <td>0.368993</td>\n",
              "      <td>0.919524</td>\n",
              "      <td>3.010160</td>\n",
              "      <td>18.231438</td>\n",
              "      <td>0.496789</td>\n",
              "      <td>5.574152</td>\n",
              "      <td>0.440583</td>\n",
              "      <td>0.325028</td>\n",
              "      <td>0.163902</td>\n",
              "      <td>0.147128</td>\n",
              "      <td>0.187917</td>\n",
              "      <td>0.374317</td>\n",
              "      <td>0.192790</td>\n",
              "      <td>0.148192</td>\n",
              "      <td>0.122392</td>\n",
              "      <td>0.070597</td>\n",
              "      <td>0.140854</td>\n",
              "      <td>0.476430</td>\n",
              "      <td>0.478505</td>\n",
              "      <td>0.477654</td>\n",
              "    </tr>\n",
              "    <tr>\n",
              "      <th>min</th>\n",
              "      <td>0.000000</td>\n",
              "      <td>-0.859222</td>\n",
              "      <td>0.000000</td>\n",
              "      <td>0.000000</td>\n",
              "      <td>1.000000</td>\n",
              "      <td>0.000000</td>\n",
              "      <td>-0.941441</td>\n",
              "      <td>1.000000</td>\n",
              "      <td>0.000000</td>\n",
              "      <td>0.000000</td>\n",
              "      <td>1.000000</td>\n",
              "      <td>0.000000</td>\n",
              "      <td>1.000000</td>\n",
              "      <td>1.000000</td>\n",
              "      <td>1.000000</td>\n",
              "      <td>0.000000</td>\n",
              "      <td>0.000000</td>\n",
              "      <td>0.000000</td>\n",
              "      <td>0.000000</td>\n",
              "      <td>1.000000</td>\n",
              "      <td>1.000000</td>\n",
              "      <td>0.000000</td>\n",
              "      <td>1.000000</td>\n",
              "      <td>1.000000</td>\n",
              "      <td>1.000000</td>\n",
              "      <td>0.000000</td>\n",
              "      <td>0.000000</td>\n",
              "      <td>1.000000</td>\n",
              "      <td>0.000000</td>\n",
              "      <td>0.000000</td>\n",
              "      <td>0.000000</td>\n",
              "      <td>0.000000</td>\n",
              "      <td>0.000000</td>\n",
              "      <td>0.000000</td>\n",
              "      <td>0.000000</td>\n",
              "      <td>0.000000</td>\n",
              "      <td>0.000000</td>\n",
              "      <td>0.000000</td>\n",
              "      <td>0.000000</td>\n",
              "      <td>0.000000</td>\n",
              "      <td>0.000000</td>\n",
              "    </tr>\n",
              "    <tr>\n",
              "      <th>25%</th>\n",
              "      <td>0.000000</td>\n",
              "      <td>-0.471365</td>\n",
              "      <td>0.000000</td>\n",
              "      <td>11.000000</td>\n",
              "      <td>4.000000</td>\n",
              "      <td>3.000000</td>\n",
              "      <td>-0.521242</td>\n",
              "      <td>1.000000</td>\n",
              "      <td>2.000000</td>\n",
              "      <td>1.000000</td>\n",
              "      <td>2.000000</td>\n",
              "      <td>1.000000</td>\n",
              "      <td>6.000000</td>\n",
              "      <td>2.000000</td>\n",
              "      <td>1.000000</td>\n",
              "      <td>1.000000</td>\n",
              "      <td>8.000000</td>\n",
              "      <td>1.000000</td>\n",
              "      <td>1.000000</td>\n",
              "      <td>1.000000</td>\n",
              "      <td>1.000000</td>\n",
              "      <td>0.000000</td>\n",
              "      <td>2.000000</td>\n",
              "      <td>6.000000</td>\n",
              "      <td>1.000000</td>\n",
              "      <td>0.000000</td>\n",
              "      <td>0.000000</td>\n",
              "      <td>1.000000</td>\n",
              "      <td>1.000000</td>\n",
              "      <td>0.000000</td>\n",
              "      <td>0.000000</td>\n",
              "      <td>0.000000</td>\n",
              "      <td>0.000000</td>\n",
              "      <td>0.000000</td>\n",
              "      <td>0.000000</td>\n",
              "      <td>0.000000</td>\n",
              "      <td>1.000000</td>\n",
              "      <td>1.000000</td>\n",
              "      <td>0.000000</td>\n",
              "      <td>0.000000</td>\n",
              "      <td>0.000000</td>\n",
              "    </tr>\n",
              "    <tr>\n",
              "      <th>50%</th>\n",
              "      <td>0.000000</td>\n",
              "      <td>-0.238651</td>\n",
              "      <td>0.000000</td>\n",
              "      <td>15.000000</td>\n",
              "      <td>5.000000</td>\n",
              "      <td>4.000000</td>\n",
              "      <td>-0.241109</td>\n",
              "      <td>1.000000</td>\n",
              "      <td>6.000000</td>\n",
              "      <td>1.000000</td>\n",
              "      <td>4.000000</td>\n",
              "      <td>2.000000</td>\n",
              "      <td>8.000000</td>\n",
              "      <td>4.000000</td>\n",
              "      <td>1.000000</td>\n",
              "      <td>17.000000</td>\n",
              "      <td>13.000000</td>\n",
              "      <td>1.000000</td>\n",
              "      <td>1.000000</td>\n",
              "      <td>2.000000</td>\n",
              "      <td>1.000000</td>\n",
              "      <td>0.000000</td>\n",
              "      <td>3.000000</td>\n",
              "      <td>8.000000</td>\n",
              "      <td>1.000000</td>\n",
              "      <td>1.000000</td>\n",
              "      <td>0.000000</td>\n",
              "      <td>1.000000</td>\n",
              "      <td>1.000000</td>\n",
              "      <td>0.000000</td>\n",
              "      <td>0.000000</td>\n",
              "      <td>0.000000</td>\n",
              "      <td>0.000000</td>\n",
              "      <td>0.000000</td>\n",
              "      <td>0.000000</td>\n",
              "      <td>0.000000</td>\n",
              "      <td>1.000000</td>\n",
              "      <td>1.000000</td>\n",
              "      <td>0.000000</td>\n",
              "      <td>1.000000</td>\n",
              "      <td>1.000000</td>\n",
              "    </tr>\n",
              "    <tr>\n",
              "      <th>75%</th>\n",
              "      <td>13.000000</td>\n",
              "      <td>0.149205</td>\n",
              "      <td>1.000000</td>\n",
              "      <td>19.000000</td>\n",
              "      <td>11.000000</td>\n",
              "      <td>26.000000</td>\n",
              "      <td>0.179090</td>\n",
              "      <td>2.000000</td>\n",
              "      <td>18.000000</td>\n",
              "      <td>1.000000</td>\n",
              "      <td>5.000000</td>\n",
              "      <td>3.000000</td>\n",
              "      <td>10.000000</td>\n",
              "      <td>6.000000</td>\n",
              "      <td>1.000000</td>\n",
              "      <td>42.000000</td>\n",
              "      <td>18.000000</td>\n",
              "      <td>2.000000</td>\n",
              "      <td>1.000000</td>\n",
              "      <td>5.000000</td>\n",
              "      <td>3.000000</td>\n",
              "      <td>0.000000</td>\n",
              "      <td>4.000000</td>\n",
              "      <td>10.000000</td>\n",
              "      <td>2.000000</td>\n",
              "      <td>1.000000</td>\n",
              "      <td>0.000000</td>\n",
              "      <td>2.000000</td>\n",
              "      <td>1.000000</td>\n",
              "      <td>0.000000</td>\n",
              "      <td>0.000000</td>\n",
              "      <td>0.000000</td>\n",
              "      <td>0.000000</td>\n",
              "      <td>0.000000</td>\n",
              "      <td>0.000000</td>\n",
              "      <td>0.000000</td>\n",
              "      <td>1.000000</td>\n",
              "      <td>1.000000</td>\n",
              "      <td>1.000000</td>\n",
              "      <td>1.000000</td>\n",
              "      <td>1.000000</td>\n",
              "    </tr>\n",
              "    <tr>\n",
              "      <th>max</th>\n",
              "      <td>507.000000</td>\n",
              "      <td>82.142134</td>\n",
              "      <td>1.000000</td>\n",
              "      <td>23.000000</td>\n",
              "      <td>316.000000</td>\n",
              "      <td>928.000000</td>\n",
              "      <td>55.225183</td>\n",
              "      <td>18.000000</td>\n",
              "      <td>340.000000</td>\n",
              "      <td>179.000000</td>\n",
              "      <td>7.000000</td>\n",
              "      <td>9.000000</td>\n",
              "      <td>12.000000</td>\n",
              "      <td>7.000000</td>\n",
              "      <td>2.000000</td>\n",
              "      <td>1049.000000</td>\n",
              "      <td>23.000000</td>\n",
              "      <td>18.000000</td>\n",
              "      <td>193.000000</td>\n",
              "      <td>30.000000</td>\n",
              "      <td>7.000000</td>\n",
              "      <td>16.000000</td>\n",
              "      <td>4.000000</td>\n",
              "      <td>12.000000</td>\n",
              "      <td>756.000000</td>\n",
              "      <td>1.000000</td>\n",
              "      <td>344.000000</td>\n",
              "      <td>2.000000</td>\n",
              "      <td>1.000000</td>\n",
              "      <td>4.000000</td>\n",
              "      <td>1.000000</td>\n",
              "      <td>1.000000</td>\n",
              "      <td>1.000000</td>\n",
              "      <td>1.000000</td>\n",
              "      <td>1.000000</td>\n",
              "      <td>1.000000</td>\n",
              "      <td>1.000000</td>\n",
              "      <td>1.000000</td>\n",
              "      <td>1.000000</td>\n",
              "      <td>1.000000</td>\n",
              "      <td>1.000000</td>\n",
              "    </tr>\n",
              "  </tbody>\n",
              "</table>\n",
              "</div>"
            ],
            "text/plain": [
              "             field0        field1  ...  indicator_goal24  indicator_goal25\n",
              "count 631461.000000 631461.000000  ...     631461.000000     631461.000000\n",
              "mean      28.398766      0.000035  ...          0.645028          0.647807\n",
              "std       69.651831      0.999939  ...          0.478505          0.477654\n",
              "min        0.000000     -0.859222  ...          0.000000          0.000000\n",
              "25%        0.000000     -0.471365  ...          0.000000          0.000000\n",
              "50%        0.000000     -0.238651  ...          1.000000          1.000000\n",
              "75%       13.000000      0.149205  ...          1.000000          1.000000\n",
              "max      507.000000     82.142134  ...          1.000000          1.000000\n",
              "\n",
              "[8 rows x 41 columns]"
            ]
          },
          "metadata": {
            "tags": []
          },
          "execution_count": 2
        }
      ]
    },
    {
      "cell_type": "code",
      "metadata": {
        "id": "c5N9SL_rg-co",
        "colab_type": "code",
        "outputId": "4477b431-3955-45b4-b714-517177376cc7",
        "colab": {
          "base_uri": "https://localhost:8080/",
          "height": 34
        }
      },
      "source": [
        "data_mean, data_std = df_train.field9.mean(), df_train.field9.std()\n",
        "cut_off = data_std * 3\n",
        "lower, upper = data_mean - cut_off, data_mean + cut_off\n",
        "\n",
        "outliers = [x for x in df_train.field9 if x < lower or x > upper]\n",
        "len(outliers), len(df_train.field4)"
      ],
      "execution_count": 0,
      "outputs": [
        {
          "output_type": "execute_result",
          "data": {
            "text/plain": [
              "(4350, 196056)"
            ]
          },
          "metadata": {
            "tags": []
          },
          "execution_count": 6
        }
      ]
    },
    {
      "cell_type": "code",
      "metadata": {
        "id": "vcs6OzDA70ru",
        "colab_type": "code",
        "outputId": "8753b0d4-190c-44ba-c2f8-56cf27eb0e85",
        "colab": {
          "base_uri": "https://localhost:8080/",
          "height": 34
        }
      },
      "source": [
        "a = df_train.groupby('userid', as_index=False).count()\n",
        "a = a[a.field0 > 1]\n",
        "a.field0.max()\n"
      ],
      "execution_count": 0,
      "outputs": [
        {
          "output_type": "execute_result",
          "data": {
            "text/plain": [
              "363"
            ]
          },
          "metadata": {
            "tags": []
          },
          "execution_count": 13
        }
      ]
    },
    {
      "cell_type": "code",
      "metadata": {
        "id": "0bEnDqHLb-wW",
        "colab_type": "code",
        "colab": {}
      },
      "source": [
        "def vectorize( X, cols ):\n",
        "\n",
        "  for col in cols:\n",
        "    df = pd.get_dummies(X[col])\n",
        "    df.columns = ['%s_%d' % (col, i) for i in range(df.shape[1])]\n",
        "    X = X.join(df)\n",
        "  X.drop(cols, axis=1, inplace=True)\n",
        "\n",
        "  return X\n",
        "\n",
        "def undersample_data(X):\n",
        "    # Separate majority and minority classes\n",
        "    df_majority = X[X['goal1']==0]\n",
        "    df_minority = X[X['goal1']==1]\n",
        "    \n",
        "    n_samples = math.floor( X['goal1'].sum() * undersample )\n",
        "\n",
        "    # Downsample majority class\n",
        "    df_majority_downsampled = resample(df_majority, \n",
        "                                    replace=False,    # sample without replacement\n",
        "                                    n_samples=n_samples,     # to match minority class\n",
        "                                    random_state=RS) # reproducible results\n",
        "    \n",
        "    # Combine minority class with downsampled majority class\n",
        "    X = pd.concat([df_majority_downsampled, df_minority])# Separate majority and minority classes\n",
        "\n",
        "field0 - количество дней прошедших с предыдущей покупки    return X"
      ],
      "execution_count": 0,
      "outputs": []
    },
    {
      "cell_type": "markdown",
      "metadata": {
        "id": "slXxo9ZysZqe",
        "colab_type": "text"
      },
      "source": [
        "field0 - количество дней прошедших с предыдущей покупки\n",
        "\n",
        "field1 - общая цена всех билетов.\n",
        "\n",
        "field2 - месяц покупки билетов\n",
        "\n",
        "field3 - месяц вылета\n",
        "\n",
        "field4 номер покупки, соответсвует месяцу покупки билета field2\n",
        "\n",
        "field5 - мб это индикатор регистрации\n",
        "\n",
        "field9 - количество билетов детей (до одного год)\n",
        "\n",
        "field11 - час вылета\n",
        "\n",
        "field15 - количество всех билетов, = field24 + field28 + field9\n",
        "\n",
        "field16 - количество дней с момента покупки до момента вылета\n",
        "\n",
        "field18 - день недели покупки\n",
        "\n",
        "field21 - это год покупки. В этом признаке значения идут в обратном порядке. 2 - первый год, 1 - второй год\n",
        "\n",
        "field23 - час покупки билетов\n",
        "\n",
        "field24 - количество билетов взрослых людей\n",
        "\n",
        "field28 - количество билетов детей (от 2 до 4 лет)\n",
        "\n",
        "field20 - день недели вылета"
      ]
    },
    {
      "cell_type": "code",
      "metadata": {
        "colab_type": "code",
        "id": "-vIbEIYeY8sL",
        "colab": {}
      },
      "source": [
        "def remove_outliers( X, y ):\n",
        "  # remove the outlier rows\n",
        "  X = X[X.apply(lambda x: np.abs(x - x.mean()) / x.std() < 3).all(axis=1)]\n",
        "  # remove the columns with equal values\n",
        "  X = X.loc[:,X.apply(pd.Series.nunique) != 1]\n",
        "  # fix the target index\n",
        "  y = y[y.index.isin(X.index)]\n",
        "  return X, y\n",
        "\n",
        "def mark_outliers( X, outlier_ratio=0 ):\n",
        "  outlier_index = X.apply(lambda x: np.abs(x - x.mean()) / x.std() < outlier_ratio).all(axis=1)\n",
        "  X['otl'] = 1\n",
        "  X.loc[outlier_index, 'otl'] = 0\n",
        "  return X\n",
        "\n",
        "def add_linear(X, cols=[], sets=2):\n",
        "  for i in cols if len(cols) > 0 else X.columns:\n",
        "    for j in X.columns:\n",
        "      if i != j: X[f'{i}*{j}'] = X[i]*X[j]\n",
        "  return X"
      ],
      "execution_count": 0,
      "outputs": []
    },
    {
      "cell_type": "code",
      "metadata": {
        "id": "_9QkYnV5og7z",
        "colab_type": "code",
        "outputId": "9f19db92-007c-408d-d4db-b8304f907b8a",
        "colab": {
          "base_uri": "https://localhost:8080/",
          "height": 34
        }
      },
      "source": [
        "a = ['field0']\n",
        "np.unique(a)"
      ],
      "execution_count": 0,
      "outputs": [
        {
          "output_type": "execute_result",
          "data": {
            "text/plain": [
              "array(['field0'], dtype='<U6')"
            ]
          },
          "metadata": {
            "tags": []
          },
          "execution_count": 55
        }
      ]
    },
    {
      "cell_type": "code",
      "metadata": {
        "id": "JYgRQ55K8M-E",
        "colab_type": "code",
        "outputId": "5e4c4b8e-1c35-45cb-ad9a-4124b205b337",
        "colab": {
          "base_uri": "https://localhost:8080/",
          "height": 427
        }
      },
      "source": [
        "import seaborn as sns; sns.set()\n",
        "#X, y = prepare_data(df_train)\n",
        "ax = sns.heatmap(X.corr())"
      ],
      "execution_count": 0,
      "outputs": [
        {
          "output_type": "display_data",
          "data": {
            "image/png": "[encoded data removed]",
            "text/plain": [
              "<Figure size 432x432 with 2 Axes>"
            ]
          },
          "metadata": {
            "tags": []
          }
        }
      ]
    },
    {
      "cell_type": "code",
      "metadata": {
        "id": "2dn7zqWfnQos",
        "colab_type": "code",
        "colab": {}
      },
      "source": [
        "X.corr().nlargest(10)"
      ],
      "execution_count": 0,
      "outputs": []
    },
    {
      "cell_type": "code",
      "metadata": {
        "id": "epDQ43vgZc2A",
        "colab_type": "code",
        "outputId": "51dbc59d-1a46-477c-950d-89bcc88493b8",
        "colab": {
          "base_uri": "https://localhost:8080/",
          "height": 34
        }
      },
      "source": [
        "corr = df_train.corr()\n",
        "corr.field2['field29'], corr.field15['field24']"
      ],
      "execution_count": 0,
      "outputs": [
        {
          "output_type": "execute_result",
          "data": {
            "text/plain": [
              "(0.9539990460663368, 0.8997383624774794)"
            ]
          },
          "metadata": {
            "tags": []
          },
          "execution_count": 151
        }
      ]
    },
    {
      "cell_type": "code",
      "metadata": {
        "id": "jnyoIizsNYf-",
        "colab_type": "code",
        "colab": {}
      },
      "source": [
        "def add_polynomial_inner( X, poly ):\n",
        "  X = X\n",
        "  X = pd.DataFrame(poly.transform(X), index=X.index, columns = poly.get_feature_names(X.columns))\n",
        "  return X\n",
        "    \n",
        "def add_polynomial(X_train, X_cv=None, degree=2):\n",
        "  poly = sklearn.preprocessing.PolynomialFeatures(degree)\n",
        "  poly.fit(X)\n",
        "  \n",
        "  X_train = add_polynomial_inner(X_train, poly)\n",
        "  if X_cv is not None:\n",
        "      X_cv = add_polynomial_inner(X_cv, poly)\n",
        "\n",
        "  #poly_corrs = poly_features.corrwith(y).sort_values(ascending=False)\n",
        "  #poly_corrs = poly_features.corrwith(y).nlargest(20)\n",
        "\n",
        "  return X_train, X_cv, poly\n",
        "\n",
        "def add_neighbors_inner( X, neigh ):\n",
        "  X = X.copy()\n",
        "  dists, _ = neigh.kneighbors(X, return_distance=True)\n",
        "  X['K-mean'] = dists.mean(axis=1).reshape(-1, 1)\n",
        "  X['K-max'] = dists.max(axis=1).reshape(-1, 1)\n",
        "  return X\n",
        "\n",
        "def add_neighbors(X_train, X_cv=None, n_neighbors=5):\n",
        "  neigh = skl.neighbors.NearestNeighbors(n_neighbors=n_neighbors, n_jobs=-1)\n",
        "  neigh.fit(X_train)\n",
        "\n",
        "  X_train = add_neighbors_inner(X_train, neigh)\n",
        "  if X_cv is not None:\n",
        "      X_cv = add_neighbors_inner(X_cv, neigh)\n",
        "\n",
        "  return X_train, X_cv, neigh"
      ],
      "execution_count": 0,
      "outputs": []
    },
    {
      "cell_type": "code",
      "metadata": {
        "id": "carSaBvxXRvx",
        "colab_type": "code",
        "colab": {}
      },
      "source": [
        "def estimate(X, y, model, plot=True):\n",
        "  X_train, X_cv, y_train, y_cv = train_test_split(X, y, random_state=RS, shuffle=True)\n",
        "  \n",
        "  # apply class weights\n",
        "  class_weights = list(skl.utils.class_weight.compute_class_weight('balanced', np.unique(y_train), y_train.values.ravel()))\n",
        "  w_array = pd.Series(np.ones(y_train.shape[0], dtype = 'float32'), index=y_train.index)\\\n",
        "                    .apply(lambda x: class_weights[0] if x==0 else class_weights[1])\n",
        "  \n",
        "  #try:\n",
        "  #  sklearn.utils.validation.check_is_fitted(model, type(model).__name__, 'Model is not fitted')\n",
        "  #except sklearn.utils.validation.NotFittedError:\n",
        "  boosters = ['XGBClassifier', 'LGBMClassifier']\n",
        "  if type(model).__name__ in boosters:\n",
        "    print(0, end='')\n",
        "    model.fit(X_train, y_train.values.ravel(), \n",
        "              eval_set=[(X_cv, y_cv.values.ravel())],\n",
        "              early_stopping_rounds=200,\n",
        "              verbose=False,\n",
        "              #sample_weight=w_array\n",
        "              )\n",
        "  else:\n",
        "    print(1, end='')\n",
        "    model.fit(X_train, y_train.values.ravel(), \n",
        "              #sample_weight=w_array\n",
        "              )\n",
        "\n",
        "  if plot == True:\n",
        "    plot_cm_and_roc(model, X_train, y_train, 'train')\n",
        "    plot_cm_and_roc(model, X_cv, y_cv, 'cv')\n",
        "\n",
        "  return model"
      ],
      "execution_count": 0,
      "outputs": []
    },
    {
      "cell_type": "code",
      "metadata": {
        "id": "YX5_YHIXePZV",
        "colab_type": "code",
        "colab": {}
      },
      "source": [
        "def fit_estimate( X, y, model_generator, n_folds = 5, n_neighbors=0, degree=0, plot=False):\n",
        "\n",
        "  scores = []\n",
        "  models = []\n",
        "  neighbs = []\n",
        "  polies = []\n",
        "\n",
        "  folds = list(skl.model_selection.StratifiedKFold(n_splits=n_folds, shuffle=True, random_state=RS).split(X, y))\n",
        "  for j, (train_idx, val_idx) in enumerate(folds):\n",
        "\n",
        "    X_train, X_cv = X.iloc[train_idx], X.iloc[val_idx]\n",
        "    y_train, y_cv = y[train_idx], y[val_idx]\n",
        "\n",
        "    if degree > 1:\n",
        "      X_train, X_cv, poly = add_polynomial(X_train, X_cv, degree)\n",
        "      polies.append(poly)\n",
        "    \n",
        "    if n_neighbors > 0:\n",
        "      X_train, X_cv, neigh = add_neighbors(X_train, X_cv, n_neighbors)\n",
        "      neighbs.append(neigh)\n",
        "\n",
        "    model = model_generator()\n",
        "\n",
        "    #try:\n",
        "    #  sklearn.utils.validation.check_is_fitted(model, type(model).__name__, 'Model is not fitted')\n",
        "    #except sklearn.utils.validation.NotFittedError:\n",
        "    boosters = ['XGBClassifier', 'LGBMClassifier']\n",
        "    if type(model).__name__ in boosters:\n",
        "      model.fit(X_train, y_train, \n",
        "                eval_set=[(X_cv, y_cv)],\n",
        "                early_stopping_rounds=200,\n",
        "                verbose=False,\n",
        "                #sample_weight=w_array\n",
        "                )\n",
        "    else:\n",
        "      print(1, end='')\n",
        "      model.fit(X_train, y_train.values.ravel(), \n",
        "                #sample_weight=w_array\n",
        "                )\n",
        "\n",
        "    if plot == True:  \n",
        "      plot_cm_and_roc(model, X_cv, y_cv, 'cv')\n",
        "\n",
        "    y_pred_cv = model.predict_proba(X_cv)\n",
        "    # score = skl.metrics.roc_auc_score(keras.utils.to_categorical(y_cv), y_pred_cv) # works for multiclass\n",
        "    score = skl.metrics.roc_auc_score(y_cv, y_pred_cv[:, 1]) # better one for binary\n",
        "    scores.append(score)\n",
        "    models.append(model)\n",
        "\n",
        "  # estimate OOF\n",
        "  model = models[np.argmax(scores)]\n",
        "\n",
        "  X_oof, y_off = prepare_data(df_oof)\n",
        "  if n_neighbors > 0:\n",
        "    neigh = neighbs[np.argmax(scores)]\n",
        "    X_oof = add_neighbors_inner(X_oof, neigh)\n",
        "\n",
        "  plot_cm_and_roc(model, X_oof, y_off, 'oof')\n",
        "  pred = model.predict_proba(X_oof)\n",
        "  oof = skl.metrics.roc_auc_score(y_off, pred[:, 1])\n",
        "  del X_oof\n",
        "  \n",
        "  print('{:} CV: {:.4f} ± {:.4f} OOF: {:.4f}'.format(type(model).__name__, np.mean(scores), np.std(scores), oof))\n",
        "  return scores, models, neighbs, polies"
      ],
      "execution_count": 0,
      "outputs": []
    },
    {
      "cell_type": "code",
      "metadata": {
        "id": "0JNsuJgZ5703",
        "colab_type": "code",
        "colab": {}
      },
      "source": [
        "def plot_permutation_importance(model, X_test, y_test, X_cv=None, y_cv=None):\n",
        "  result = permutation_importance(model, X_test, y_test.values.ravel(), n_repeats=10, random_state=RS)\n",
        "  sorted_idx = result.importances_mean.argsort()\n",
        "\n",
        "  if  X_cv is None:\n",
        "    fig, ax = plt.subplots(figsize=(15,5))\n",
        "    ax.boxplot(result.importances[sorted_idx].T, vert=False, labels=X_test.columns[sorted_idx])\n",
        "    ax.set_title(\"Permutation Importance of each feature\")\n",
        "    ax.set_ylabel(\"Features\")\n",
        "    fig.tight_layout()\n",
        "  else:\n",
        "    fig, (ax1, ax2) = plt.subplots(1, 2, figsize=(15,4))\n",
        "    ax1.boxplot(result.importances[sorted_idx].T, vert=False, labels=X_test.columns[sorted_idx])\n",
        "    ax1.set_title(\"Test Permutation Importance of each feature\")\n",
        "    ax1.set_ylabel(\"Features\")\n",
        "\n",
        "    result = permutation_importance(model, X_cv, y_cv.values.ravel(), n_repeats=10, random_state=RS)\n",
        "    sorted_idx = result.importances_mean.argsort()\n",
        "\n",
        "    ax2.boxplot(result.importances[sorted_idx].T, vert=False, labels=X_test.columns[sorted_idx])\n",
        "    ax2.set_title(\"CV Permutation Importance of each feature\")\n",
        "    ax2.set_ylabel(\"Features\")\n",
        "\n",
        "    fig.tight_layout()\n",
        "\n",
        "  plt.show()\n",
        "\n",
        "def plot_cm_and_roc(model, X, y, title=''):\n",
        "  fig, (ax1, ax2) = plt.subplots(1, 2, figsize=(15,4))\n",
        "  fig.patch.set_facecolor((1.0, 1.0, 1.0))\n",
        "  fig.suptitle(f'{type(model).__name__} {title}')\n",
        "  skl.metrics.plot_confusion_matrix(model, X, y, ax=ax1)\n",
        "  skl.metrics.plot_roc_curve(model, X, y, ax=ax2)\n",
        "\n",
        "  plt.show()\n",
        "\n",
        "def oof_estimate_plot(model):\n",
        "  X_oof, y_off = prepare_data(df_oof)\n",
        "  plot_cm_and_roc(model, X_oof, y_off, 'oof')\n",
        "\n",
        "  if hasattr(model, 'best_ntree_limit'): pred = model.predict_proba(X_oof, ntree_limit=model.best_ntree_limit) \n",
        "  else: pred = model.predict_proba(X_oof)\n",
        "\n",
        "  oof = skl.metrics.roc_auc_score(y_off, pred[:, 1])\n",
        "  del X_oof\n",
        "  return oof"
      ],
      "execution_count": 0,
      "outputs": []
    },
    {
      "cell_type": "code",
      "metadata": {
        "id": "Dj0WFxWBZqCC",
        "colab_type": "code",
        "outputId": "89fa8781-d2b3-47c8-c929-257fdf49f287",
        "colab": {
          "base_uri": "https://localhost:8080/",
          "height": 224
        }
      },
      "source": [
        "def add_aggregates(X, aggs=[], cols=[]):\n",
        "\n",
        "  if len(aggs) == 0:\n",
        "    aggs = ['std', 'sum', 'max', 'min', 'mean', 'count']\n",
        "\n",
        "  if len(cols) == 0:\n",
        "    cols = list(filter(lambda x: 'field' in x, X.columns))\n",
        "\n",
        "  # add aggregates for userid\n",
        "  grouped_by = X.groupby('userid')\n",
        "  all_features = []\n",
        "  \n",
        "  # add count\n",
        "  if 'count' in aggs:\n",
        "    grouped = grouped_by.agg({'userid': 'count'})\n",
        "    grouped.columns = ['count']\n",
        "    all_features.append( grouped )\n",
        "    aggs.remove('count')\n",
        "  \n",
        "  for col in cols:\n",
        "    grouped = grouped_by.agg({col: aggs}) \n",
        "    grouped.columns = [\"_\".join(x) for x in grouped.columns.ravel()]\n",
        "    all_features.append(grouped)\n",
        "\n",
        "  if len(all_features)>0:\n",
        "    all_features = pd.concat(all_features, axis=1)\n",
        "    X = X.merge(all_features, on=('userid'))\n",
        "\n",
        "  X.fillna(0, inplace=True)\n",
        "\n",
        "  return X.drop(['userid'], axis=1)\n",
        "\n",
        "def check_aggregates_result():\n",
        "  a = df_train.groupby('userid', as_index=False).count()\n",
        "  a = a[a.field0 == 5]\n",
        "  a = df_train.loc[df_train.userid.isin([*a.userid])]\n",
        "  #print(a.iloc[1].userid)\n",
        "  a = a[a.userid == a.iloc[0].userid]\n",
        "\n",
        "  return add_aggregates(a, cols=['field0'])\n",
        "  \n",
        "check_aggregates_result()"
      ],
      "execution_count": 0,
      "outputs": [
        {
          "output_type": "execute_result",
          "data": {
            "text/html": [
              "<div>\n",
              "<style scoped>\n",
              "    .dataframe tbody tr th:only-of-type {\n",
              "        vertical-align: middle;\n",
              "    }\n",
              "\n",
              "    .dataframe tbody tr th {\n",
              "        vertical-align: top;\n",
              "    }\n",
              "\n",
              "    .dataframe thead th {\n",
              "        text-align: right;\n",
              "    }\n",
              "</style>\n",
              "<table border=\"1\" class=\"dataframe\">\n",
              "  <thead>\n",
              "    <tr style=\"text-align: right;\">\n",
              "      <th></th>\n",
              "      <th>field0</th>\n",
              "      <th>field1</th>\n",
              "      <th>field2</th>\n",
              "      <th>field3</th>\n",
              "      <th>field4</th>\n",
              "      <th>field5</th>\n",
              "      <th>field6</th>\n",
              "      <th>field7</th>\n",
              "      <th>field8</th>\n",
              "      <th>field9</th>\n",
              "      <th>field10</th>\n",
              "      <th>field11</th>\n",
              "      <th>field12</th>\n",
              "      <th>field13</th>\n",
              "      <th>field14</th>\n",
              "      <th>field15</th>\n",
              "      <th>field16</th>\n",
              "      <th>field17</th>\n",
              "      <th>field18</th>\n",
              "      <th>field19</th>\n",
              "      <th>field20</th>\n",
              "      <th>field21</th>\n",
              "      <th>field22</th>\n",
              "      <th>field23</th>\n",
              "      <th>field24</th>\n",
              "      <th>field25</th>\n",
              "      <th>field26</th>\n",
              "      <th>field27</th>\n",
              "      <th>field28</th>\n",
              "      <th>field29</th>\n",
              "      <th>indicator_goal21</th>\n",
              "      <th>indicator_goal22</th>\n",
              "      <th>indicator_goal23</th>\n",
              "      <th>indicator_goal24</th>\n",
              "      <th>indicator_goal25</th>\n",
              "      <th>goal21</th>\n",
              "      <th>goal22</th>\n",
              "      <th>goal23</th>\n",
              "      <th>goal24</th>\n",
              "      <th>goal25</th>\n",
              "      <th>goal1</th>\n",
              "      <th>count</th>\n",
              "      <th>field0_std</th>\n",
              "      <th>field0_sum</th>\n",
              "      <th>field0_max</th>\n",
              "      <th>field0_min</th>\n",
              "      <th>field0_mean</th>\n",
              "    </tr>\n",
              "  </thead>\n",
              "  <tbody>\n",
              "    <tr>\n",
              "      <th>0</th>\n",
              "      <td>0</td>\n",
              "      <td>-0.626508</td>\n",
              "      <td>8</td>\n",
              "      <td>9</td>\n",
              "      <td>1</td>\n",
              "      <td>1</td>\n",
              "      <td>0</td>\n",
              "      <td>1</td>\n",
              "      <td>1</td>\n",
              "      <td>0</td>\n",
              "      <td>0</td>\n",
              "      <td>15</td>\n",
              "      <td>1</td>\n",
              "      <td>3</td>\n",
              "      <td>-0.661308</td>\n",
              "      <td>1</td>\n",
              "      <td>11</td>\n",
              "      <td>1</td>\n",
              "      <td>3</td>\n",
              "      <td>3</td>\n",
              "      <td>7</td>\n",
              "      <td>1</td>\n",
              "      <td>17</td>\n",
              "      <td>20</td>\n",
              "      <td>1</td>\n",
              "      <td>1</td>\n",
              "      <td>7</td>\n",
              "      <td>5</td>\n",
              "      <td>0</td>\n",
              "      <td>3</td>\n",
              "      <td>1</td>\n",
              "      <td>1</td>\n",
              "      <td>0</td>\n",
              "      <td>1</td>\n",
              "      <td>1</td>\n",
              "      <td>0</td>\n",
              "      <td>0</td>\n",
              "      <td>0</td>\n",
              "      <td>0</td>\n",
              "      <td>0</td>\n",
              "      <td>0</td>\n",
              "      <td>5</td>\n",
              "      <td>33.261088</td>\n",
              "      <td>143</td>\n",
              "      <td>71</td>\n",
              "      <td>0</td>\n",
              "      <td>28.600000</td>\n",
              "    </tr>\n",
              "    <tr>\n",
              "      <th>1</th>\n",
              "      <td>71</td>\n",
              "      <td>-0.626508</td>\n",
              "      <td>1</td>\n",
              "      <td>1</td>\n",
              "      <td>4</td>\n",
              "      <td>0</td>\n",
              "      <td>0</td>\n",
              "      <td>1</td>\n",
              "      <td>1</td>\n",
              "      <td>0</td>\n",
              "      <td>0</td>\n",
              "      <td>20</td>\n",
              "      <td>12</td>\n",
              "      <td>5</td>\n",
              "      <td>-0.661308</td>\n",
              "      <td>1</td>\n",
              "      <td>9</td>\n",
              "      <td>1</td>\n",
              "      <td>6</td>\n",
              "      <td>3</td>\n",
              "      <td>1</td>\n",
              "      <td>2</td>\n",
              "      <td>1</td>\n",
              "      <td>7</td>\n",
              "      <td>1</td>\n",
              "      <td>1</td>\n",
              "      <td>1</td>\n",
              "      <td>1</td>\n",
              "      <td>0</td>\n",
              "      <td>1</td>\n",
              "      <td>1</td>\n",
              "      <td>1</td>\n",
              "      <td>0</td>\n",
              "      <td>1</td>\n",
              "      <td>1</td>\n",
              "      <td>0</td>\n",
              "      <td>0</td>\n",
              "      <td>0</td>\n",
              "      <td>0</td>\n",
              "      <td>0</td>\n",
              "      <td>0</td>\n",
              "      <td>5</td>\n",
              "      <td>33.261088</td>\n",
              "      <td>143</td>\n",
              "      <td>71</td>\n",
              "      <td>0</td>\n",
              "      <td>28.600000</td>\n",
              "    </tr>\n",
              "    <tr>\n",
              "      <th>2</th>\n",
              "      <td>57</td>\n",
              "      <td>-0.704079</td>\n",
              "      <td>11</td>\n",
              "      <td>12</td>\n",
              "      <td>3</td>\n",
              "      <td>0</td>\n",
              "      <td>0</td>\n",
              "      <td>1</td>\n",
              "      <td>1</td>\n",
              "      <td>0</td>\n",
              "      <td>0</td>\n",
              "      <td>14</td>\n",
              "      <td>1</td>\n",
              "      <td>3</td>\n",
              "      <td>-0.801375</td>\n",
              "      <td>1</td>\n",
              "      <td>28</td>\n",
              "      <td>1</td>\n",
              "      <td>5</td>\n",
              "      <td>3</td>\n",
              "      <td>5</td>\n",
              "      <td>1</td>\n",
              "      <td>17</td>\n",
              "      <td>19</td>\n",
              "      <td>1</td>\n",
              "      <td>1</td>\n",
              "      <td>7</td>\n",
              "      <td>5</td>\n",
              "      <td>0</td>\n",
              "      <td>4</td>\n",
              "      <td>1</td>\n",
              "      <td>1</td>\n",
              "      <td>0</td>\n",
              "      <td>1</td>\n",
              "      <td>1</td>\n",
              "      <td>0</td>\n",
              "      <td>0</td>\n",
              "      <td>0</td>\n",
              "      <td>0</td>\n",
              "      <td>0</td>\n",
              "      <td>0</td>\n",
              "      <td>5</td>\n",
              "      <td>33.261088</td>\n",
              "      <td>143</td>\n",
              "      <td>71</td>\n",
              "      <td>0</td>\n",
              "      <td>28.600000</td>\n",
              "    </tr>\n",
              "    <tr>\n",
              "      <th>3</th>\n",
              "      <td>0</td>\n",
              "      <td>-0.704079</td>\n",
              "      <td>1</td>\n",
              "      <td>1</td>\n",
              "      <td>5</td>\n",
              "      <td>0</td>\n",
              "      <td>0</td>\n",
              "      <td>1</td>\n",
              "      <td>1</td>\n",
              "      <td>0</td>\n",
              "      <td>1</td>\n",
              "      <td>20</td>\n",
              "      <td>4</td>\n",
              "      <td>3</td>\n",
              "      <td>-0.801375</td>\n",
              "      <td>1</td>\n",
              "      <td>11</td>\n",
              "      <td>1</td>\n",
              "      <td>6</td>\n",
              "      <td>3</td>\n",
              "      <td>3</td>\n",
              "      <td>2</td>\n",
              "      <td>17</td>\n",
              "      <td>9</td>\n",
              "      <td>1</td>\n",
              "      <td>1</td>\n",
              "      <td>5</td>\n",
              "      <td>3</td>\n",
              "      <td>0</td>\n",
              "      <td>1</td>\n",
              "      <td>1</td>\n",
              "      <td>1</td>\n",
              "      <td>0</td>\n",
              "      <td>1</td>\n",
              "      <td>1</td>\n",
              "      <td>0</td>\n",
              "      <td>0</td>\n",
              "      <td>0</td>\n",
              "      <td>0</td>\n",
              "      <td>0</td>\n",
              "      <td>0</td>\n",
              "      <td>5</td>\n",
              "      <td>33.261088</td>\n",
              "      <td>143</td>\n",
              "      <td>71</td>\n",
              "      <td>0</td>\n",
              "      <td>28.600000</td>\n",
              "    </tr>\n",
              "    <tr>\n",
              "      <th>4</th>\n",
              "      <td>15</td>\n",
              "      <td>-0.704079</td>\n",
              "      <td>9</td>\n",
              "      <td>10</td>\n",
              "      <td>2</td>\n",
              "      <td>0</td>\n",
              "      <td>0</td>\n",
              "      <td>1</td>\n",
              "      <td>1</td>\n",
              "      <td>0</td>\n",
              "      <td>0</td>\n",
              "      <td>16</td>\n",
              "      <td>12</td>\n",
              "      <td>3</td>\n",
              "      <td>-0.801375</td>\n",
              "      <td>1</td>\n",
              "      <td>29</td>\n",
              "      <td>1</td>\n",
              "      <td>4</td>\n",
              "      <td>3</td>\n",
              "      <td>5</td>\n",
              "      <td>1</td>\n",
              "      <td>17</td>\n",
              "      <td>21</td>\n",
              "      <td>1</td>\n",
              "      <td>1</td>\n",
              "      <td>1</td>\n",
              "      <td>1</td>\n",
              "      <td>0</td>\n",
              "      <td>3</td>\n",
              "      <td>1</td>\n",
              "      <td>1</td>\n",
              "      <td>0</td>\n",
              "      <td>1</td>\n",
              "      <td>1</td>\n",
              "      <td>0</td>\n",
              "      <td>0</td>\n",
              "      <td>0</td>\n",
              "      <td>0</td>\n",
              "      <td>0</td>\n",
              "      <td>0</td>\n",
              "      <td>5</td>\n",
              "      <td>33.261088</td>\n",
              "      <td>143</td>\n",
              "      <td>71</td>\n",
              "      <td>0</td>\n",
              "      <td>28.600000</td>\n",
              "    </tr>\n",
              "  </tbody>\n",
              "</table>\n",
              "</div>"
            ],
            "text/plain": [
              "   field0    field1  field2  ...  field0_max  field0_min  field0_mean\n",
              "0       0 -0.626508       8  ...          71           0    28.600000\n",
              "1      71 -0.626508       1  ...          71           0    28.600000\n",
              "2      57 -0.704079      11  ...          71           0    28.600000\n",
              "3       0 -0.704079       1  ...          71           0    28.600000\n",
              "4      15 -0.704079       9  ...          71           0    28.600000\n",
              "\n",
              "[5 rows x 47 columns]"
            ]
          },
          "metadata": {
            "tags": []
          },
          "execution_count": 9
        }
      ]
    },
    {
      "cell_type": "code",
      "metadata": {
        "id": "Aa0N5otsLpw8",
        "colab_type": "code",
        "colab": {}
      },
      "source": [
        "def to_buckets(X, bins):\n",
        "  return pd.cut(X, 10, labels=False)\n"
      ],
      "execution_count": 0,
      "outputs": []
    },
    {
      "cell_type": "code",
      "metadata": {
        "id": "uKpuDOp8y6N1",
        "colab_type": "code",
        "colab": {}
      },
      "source": [
        "print(skl.utils.class_weight.compute_class_weight('balanced', np.unique(y), y.values.ravel()))\n",
        "counts = np.unique(y, return_counts=True)[1]\n",
        "print(counts[0]/counts[1])"
      ],
      "execution_count": 0,
      "outputs": []
    },
    {
      "cell_type": "code",
      "metadata": {
        "id": "dMyt3RvqyBM9",
        "colab_type": "code",
        "colab": {}
      },
      "source": [
        "def get_best_params_xgbc():\n",
        "  estimators = 298\n",
        "  return {'base_score': 0.9883241431311958, \n",
        "  'booster': 'gbtree',\n",
        "  'colsample_bylevel': 0.8954745282201794, \n",
        "  'colsample_bynode': 0.9053728787963939, \n",
        "  'colsample_bytree': 0.37737648074076036, \n",
        "  'gamma': 51, \n",
        "  'learning_rate': 0.06869149756603576, \n",
        "  'max_delta_step': 22, \n",
        "  'max_depth': 4, \n",
        "  'min_child_weight': 0.8940873051252118, \n",
        "  'missing': None,\n",
        "  'n_estimators': estimators, \n",
        "  'nthread': None,\n",
        "  'objective': 'binary:logistic',\n",
        "  'random_state': RS,\n",
        "  'reg_alpha': 0.2901487558842103, \n",
        "  'reg_lambda': 0.7240220329478356, \n",
        "  'scale_pos_weight': 0.11997115325466545,  #0.04082\n",
        "  'seed': None,\n",
        "  'silent': None,\n",
        "  'subsample': 0.699092108437742,\n",
        "  'verbosity': 0,\n",
        "  # If there’s more than one metric in the eval_metric parameter given in params, the last metric will be used for early stopping\n",
        "  'eval_metric': ['logloss', 'auc'],\n",
        "  # 'rmse', 'rmsle', 'mae', 'logloss', 'error', 'error@t', 'merror', 'mlogloss', 'auc', 'aucpr', 'ndcg', 'map', 'ndcg@n', 'ndcg@n', 'ndcg-', 'map-', 'ndcg@n-', 'ndcg@n-'\n",
        "  'tree_method': 'gpu_hist',\n",
        "  'updater': 'grow_gpu_hist',\n",
        "  'predictor': 'gpu_predictor'\n",
        "  }\n",
        "\n",
        "def get_best_params_lgbm():\n",
        "  estimators = 203\n",
        "  return {'boosting_type': 'gbdt',\n",
        "    'class_weight': None,\n",
        "    'colsample_bytree': 0.3811304824216669,\n",
        "    'importance_type': 'split',\n",
        "    'learning_rate': 0.016659893432998896,\n",
        "    'max_depth': 20,\n",
        "    'metric': ['logloss', 'auc'],\n",
        "    'min_child_samples': 12,\n",
        "    'min_child_weight': 0.0036350360157623163,\n",
        "    'min_split_gain': 0.9619961904304549,\n",
        "    'n_estimators': estimators,\n",
        "    'n_jobs': -1,\n",
        "    'num_leaves': 32,\n",
        "    'objective': 'binary',\n",
        "    'random_state': RS,\n",
        "    'reg_alpha': 0.8022751137716411,\n",
        "    'reg_lambda': 0.8186913351852023,\n",
        "    'silent': True,\n",
        "    'subsample': 0.5967826661188248,\n",
        "    'subsample_for_bin': 200000,\n",
        "    'subsample_freq': 14\n",
        "    }\n"
      ],
      "execution_count": 0,
      "outputs": []
    },
    {
      "cell_type": "code",
      "metadata": {
        "id": "IDT7s95NW8J-",
        "colab_type": "code",
        "outputId": "39c81550-17ed-4762-e357-a487bd94fada",
        "colab": {
          "base_uri": "https://localhost:8080/",
          "height": 273,
          "referenced_widgets": [
            "afcd8b7c6b514be7b7b862c557f0b9fe",
            "8eb3bcea0a5d4652b2293e4014310520",
            "cfab536b49354b81bea6e6afdb9c44c6",
            "3e3b869ccd6447d8b5d32a691f2a8ae4",
            "a66a035601c7490d8f1508fafbfef83c",
            "978e70031c5e448a962a059047ac7a69",
            "76cc45d0e9aa4c659c5bcbd655b5fe5f",
            "b59fbdde2e574a0e96256aa624ffb1f0"
          ]
        }
      },
      "source": [
        "def check_agregates_score():\n",
        "  AGGREGATES = ['count', 'std', 'sum', 'min', 'max', 'mean']\n",
        "\n",
        "  FTS = list(filter(lambda x: 'field' in x, df_train.columns))\n",
        "  scores = []\n",
        "  attrs = []\n",
        "\n",
        "  X_, y = prepare_data(df_train)\n",
        "  model = estimate(X_, y, XGBClassifier(**get_best_params_xgbc()), plot=False)\n",
        "  if hasattr(model, 'best_ntree_limit'): scores.append(model.best_score)\n",
        "  if hasattr(model, 'best_score_'): scores.append(model.best_score_['valid_0']['auc'])\n",
        "  attrs.append(('baseline', ))\n",
        "\n",
        "  grouped_by = df_train.groupby('userid')\n",
        "  for col in tqdm(FTS):\n",
        "    for agg in AGGREGATES:\n",
        "      X_ = add_aggregates(df_train, aggs=[agg], cols=[col])\n",
        "      X_, y = prepare_data(X_)\n",
        "      #model = estimate(X_, y, LGBMClassifier(**get_best_params_lgbm()), plot=False)\n",
        "      model = estimate(X_, y, XGBClassifier(**get_best_params_xgbc()), plot=False)\n",
        "      if hasattr(model, 'best_ntree_limit'): scores.append(model.best_score)\n",
        "      if hasattr(model, 'best_score_'): scores.append(model.best_score_['valid_0']['auc'])\n",
        "      attrs.append((agg, col))\n",
        "\n",
        "  arr = np.array(scores)\n",
        "  for i in arr.argsort()[-10:][::-1]:\n",
        "    print(scores[i], attrs[i])\n",
        "\n",
        "check_agregates_score()"
      ],
      "execution_count": 0,
      "outputs": [
        {
          "output_type": "stream",
          "text": [
            "0"
          ],
          "name": "stdout"
        },
        {
          "output_type": "display_data",
          "data": {
            "application/vnd.jupyter.widget-view+json": {
              "model_id": "afcd8b7c6b514be7b7b862c557f0b9fe",
              "version_minor": 0,
              "version_major": 2
            },
            "text/plain": [
              "HBox(children=(IntProgress(value=0, max=30), HTML(value='')))"
            ]
          },
          "metadata": {
            "tags": []
          }
        },
        {
          "output_type": "stream",
          "text": [
            "000000000000000000000000000000000000000000000000000000000000000000000000000000000000000000000000000000000000000000000000000000000000000000000000000000000000000000000000000000000000\n",
            "0.693892 ('baseline',)\n",
            "0.691392 ('mean', 'field27')\n",
            "0.690485 ('mean', 'field26')\n",
            "0.690385 ('sum', 'field0')\n",
            "0.689794 ('sum', 'field18')\n",
            "0.689505 ('min', 'field16')\n",
            "0.68933 ('std', 'field0')\n",
            "0.689281 ('mean', 'field0')\n",
            "0.689262 ('max', 'field0')\n",
            "0.689157 ('sum', 'field26')\n"
          ],
          "name": "stdout"
        }
      ]
    },
    {
      "cell_type": "markdown",
      "metadata": {
        "id": "W84xw2JqdD2D",
        "colab_type": "text"
      },
      "source": [
        "## Importance"
      ]
    },
    {
      "cell_type": "code",
      "metadata": {
        "id": "RbhPX9yspaeM",
        "colab_type": "code",
        "colab": {
          "base_uri": "https://localhost:8080/",
          "height": 422
        },
        "outputId": "95e1121c-407a-4a22-c6aa-5e1cbab39396"
      },
      "source": [
        "xgb.plot_importance(model)\n",
        "#xgb.plot_tree(model, num_trees=10)"
      ],
      "execution_count": 86,
      "outputs": [
        {
          "output_type": "execute_result",
          "data": {
            "text/plain": [
              "<matplotlib.axes._subplots.AxesSubplot at 0x7f4588702b00>"
            ]
          },
          "metadata": {
            "tags": []
          },
          "execution_count": 86
        },
        {
          "output_type": "display_data",
          "data": {
            "image/png": "[encoded data removed]",
            "text/plain": [
              "<Figure size 432x432 with 1 Axes>"
            ]
          },
          "metadata": {
            "tags": []
          }
        }
      ]
    },
    {
      "cell_type": "code",
      "metadata": {
        "id": "0Geut5spckVW",
        "colab_type": "code",
        "outputId": "b27716d8-77ea-4138-fda3-668f9baf66b8",
        "colab": {
          "base_uri": "https://localhost:8080/",
          "height": 473
        }
      },
      "source": [
        "feat_importances = pd.Series(model.feature_importances_, index=X.columns)\n",
        "feat_importances.nlargest(30).plot(kind='barh')\n",
        "print(feat_importances.nlargest(30).index)"
      ],
      "execution_count": 87,
      "outputs": [
        {
          "output_type": "stream",
          "text": [
            "Index(['field16', 'field12', 'field10', 'field7', 'field25', 'field21',\n",
            "       'field14', 'field6', 'field0', 'field1', 'field19', 'field28',\n",
            "       'field17', 'field22', 'field27', 'field24', 'field26', 'field2',\n",
            "       'field3', 'field11', 'field8', 'field9', 'field18', 'field15', 'field4',\n",
            "       'field13', 'field23', 'field29'],\n",
            "      dtype='object')\n"
          ],
          "name": "stdout"
        },
        {
          "output_type": "display_data",
          "data": {
            "image/png": "[encoded data removed]",
            "text/plain": [
              "<Figure size 432x432 with 1 Axes>"
            ]
          },
          "metadata": {
            "tags": []
          }
        }
      ]
    },
    {
      "cell_type": "code",
      "metadata": {
        "id": "zbA2GGaA_ZQJ",
        "colab_type": "code",
        "colab": {}
      },
      "source": [
        "X, y = prepare_data( df_train)\n",
        "\n",
        "from sklearn.utils import all_estimators\n",
        "\n",
        "def_params = {\n",
        "    'random_state': RS,\n",
        "    'n_jobs': -1\n",
        "}\n",
        "\n",
        "estimators = all_estimators(type_filter='classifier')\n",
        "for name, class_ in estimators:\n",
        "  print(class_)\n",
        "  #try:\n",
        "  #  model = estimate(X, y, class_());\n",
        "  #except:\n",
        "  #  pass\n",
        "\n"
      ],
      "execution_count": 0,
      "outputs": []
    },
    {
      "cell_type": "markdown",
      "metadata": {
        "id": "5-Y2oiFjlHxt",
        "colab_type": "text"
      },
      "source": [
        "## Recursive Feature Elimination"
      ]
    },
    {
      "cell_type": "code",
      "metadata": {
        "id": "Dz-VDZHYdyZW",
        "colab_type": "code",
        "colab": {}
      },
      "source": [
        "def prepare_data( data ):\n",
        "  X = data[FTS]\n",
        "  y = []\n",
        "\n",
        "  if TARGET in data.columns: y = data[TARGET].values.ravel()\n",
        "  #X = X.drop(['field5', 'field20'], axis=1)\n",
        "  cols = ['field5', 'field20', 'field18', 'field27', 'field29']\n",
        "  X = X.drop(cols, axis=1)\n",
        "\n",
        "  return X, y"
      ],
      "execution_count": 0,
      "outputs": []
    },
    {
      "cell_type": "code",
      "metadata": {
        "id": "J271miMqkwML",
        "colab_type": "code",
        "colab": {
          "base_uri": "https://localhost:8080/",
          "height": 832
        },
        "outputId": "cd9eacfc-de82-4da5-dd79-b0a4a982a65c"
      },
      "source": [
        "%%time\n",
        "from sklearn.feature_selection import RFECV\n",
        "# XGBClassifier CV: 0.6784501167635486 ± 0.01855717343073274 OOF: 0.6849985940210219 ~['field5', 'field20'] Baseline\n",
        "# XGBClassifier CV: 0.6862505904663256 ± 0.0010323194363471226 OOF: 0.7056287931991523 10f, all fts 0.675026 lb\n",
        "X, y = prepare_data( df_train )\n",
        "\n",
        "rfe = RFECV(XGBClassifier(**get_best_params_xgbc()),\n",
        "            cv=StratifiedKFold(n_splits=10, shuffle=True, random_state=RS), \n",
        "            scoring='roc_auc', verbose=1, min_features_to_select=20, step=1, n_jobs=-1)\n",
        "\n",
        "rfe.fit(X, y)\n",
        "\n",
        "model = rfe\n",
        "\n",
        "print(f'{type(rfe.estimator_).__name__} CV: {np.mean(rfe.grid_scores_)} ± {np.std(rfe.grid_scores_)} OOF: {oof_estimate_plot(rfe)}')\n",
        "print(f'Remove: {X.iloc[:, ~rfe.support_].columns.tolist()}')\n",
        "\n",
        "print(f'Optimal number of features :{rfe.n_features_}')\n",
        "plt.figure()\n",
        "plt.xlabel('Number of features selected')\n",
        "plt.ylabel('Cross validation score')\n",
        "plt.plot(range(rfe.min_features_to_select, len(rfe.grid_scores_) + rfe.min_features_to_select), rfe.grid_scores_)\n",
        "plt.show()"
      ],
      "execution_count": 74,
      "outputs": [
        {
          "output_type": "stream",
          "text": [
            "Fitting estimator with 28 features.\n",
            "Fitting estimator with 27 features.\n",
            "Fitting estimator with 26 features.\n",
            "Fitting estimator with 25 features.\n"
          ],
          "name": "stdout"
        },
        {
          "output_type": "display_data",
          "data": {
            "image/png": "[encoded data removed]",
            "text/plain": [
              "<Figure size 1080x288 with 3 Axes>"
            ]
          },
          "metadata": {
            "tags": []
          }
        },
        {
          "output_type": "stream",
          "text": [
            "XGBClassifier CV: 0.6863337515984969 ± 0.0005869097881665122 OOF: 0.7031158284699626\n",
            "Remove: ['field4', 'field8', 'field24', 'field29']\n",
            "Optimal number of features :24\n"
          ],
          "name": "stdout"
        },
        {
          "output_type": "display_data",
          "data": {
            "image/png": "[encoded data removed]",
            "text/plain": [
              "<Figure size 432x432 with 1 Axes>"
            ]
          },
          "metadata": {
            "tags": []
          }
        },
        {
          "output_type": "stream",
          "text": [
            "CPU times: user 20 s, sys: 12.6 s, total: 32.6 s\n",
            "Wall time: 8min 21s\n"
          ],
          "name": "stdout"
        }
      ]
    },
    {
      "cell_type": "code",
      "metadata": {
        "id": "MRD-ijQVBZuJ",
        "colab_type": "code",
        "outputId": "ca5f4ac1-1c8a-4469-e4ab-bc4996deccc3",
        "colab": {
          "base_uri": "https://localhost:8080/",
          "height": 54
        }
      },
      "source": [
        "cols = X.iloc[:, rfe.support_].columns.tolist()\n",
        "cols = [x for _,x in sorted(zip(rfe.ranking_,cols))]\n",
        "print(f'Keep: {cols}')"
      ],
      "execution_count": 84,
      "outputs": [
        {
          "output_type": "stream",
          "text": [
            "Keep: ['field0', 'field1', 'field11', 'field12', 'field13', 'field14', 'field15', 'field16', 'field17', 'field18', 'field19', 'field2', 'field21', 'field22', 'field23', 'field25', 'field26', 'field28', 'field3', 'field7', 'field9', 'field6', 'field27', 'field10']\n"
          ],
          "name": "stdout"
        }
      ]
    },
    {
      "cell_type": "code",
      "metadata": {
        "id": "3OG9CSmQevin",
        "colab_type": "code",
        "outputId": "efa1661f-e7c2-4624-92aa-f134e749562d",
        "colab": {
          "base_uri": "https://localhost:8080/",
          "height": 54
        }
      },
      "source": [
        "sklearn.metrics.SCORERS.keys()"
      ],
      "execution_count": 0,
      "outputs": [
        {
          "output_type": "execute_result",
          "data": {
            "text/plain": [
              "dict_keys(['explained_variance', 'r2', 'max_error', 'neg_median_absolute_error', 'neg_mean_absolute_error', 'neg_mean_squared_error', 'neg_mean_squared_log_error', 'neg_root_mean_squared_error', 'neg_mean_poisson_deviance', 'neg_mean_gamma_deviance', 'accuracy', 'roc_auc', 'roc_auc_ovr', 'roc_auc_ovo', 'roc_auc_ovr_weighted', 'roc_auc_ovo_weighted', 'balanced_accuracy', 'average_precision', 'neg_log_loss', 'neg_brier_score', 'adjusted_rand_score', 'homogeneity_score', 'completeness_score', 'v_measure_score', 'mutual_info_score', 'adjusted_mutual_info_score', 'normalized_mutual_info_score', 'fowlkes_mallows_score', 'precision', 'precision_macro', 'precision_micro', 'precision_samples', 'precision_weighted', 'recall', 'recall_macro', 'recall_micro', 'recall_samples', 'recall_weighted', 'f1', 'f1_macro', 'f1_micro', 'f1_samples', 'f1_weighted', 'jaccard', 'jaccard_macro', 'jaccard_micro', 'jaccard_samples', 'jaccard_weighted'])"
            ]
          },
          "metadata": {
            "tags": []
          },
          "execution_count": 43
        }
      ]
    },
    {
      "cell_type": "markdown",
      "metadata": {
        "id": "Gny_r7sZ4qtf",
        "colab_type": "text"
      },
      "source": [
        "## ExhaustiveFeatureSelector"
      ]
    },
    {
      "cell_type": "code",
      "metadata": {
        "id": "56PB02frCtxG",
        "colab_type": "code",
        "colab": {}
      },
      "source": [
        "from mlxtend.feature_selection import ExhaustiveFeatureSelector as EFS\n",
        "\n",
        "X, y = prepare_data( df_train ) \n",
        "\n",
        "efs1 = EFS(XGBClassifier(**get_best_params_xgbc()), \n",
        "           min_features=20,\n",
        "           max_features=28,\n",
        "           scoring='roc_auc',\n",
        "           print_progress=True,\n",
        "           cv=5)\n",
        "\n",
        "efs1 = efs1.fit(X, y.values.ravel())\n",
        "\n",
        "print('Best accuracy score: %.2f' % efs1.best_score_)\n",
        "print('Best subset (indices):', efs1.best_idx_)\n",
        "print('Best subset (corresponding names):', efs1.best_feature_names_)"
      ],
      "execution_count": 0,
      "outputs": []
    },
    {
      "cell_type": "markdown",
      "metadata": {
        "colab_type": "text",
        "id": "_3xIkq-rHhiN"
      },
      "source": [
        "## SequentialFeatureSelector"
      ]
    },
    {
      "cell_type": "code",
      "metadata": {
        "id": "qs9XbfuHGXNT",
        "colab_type": "code",
        "outputId": "0f445008-cae7-4978-ed9b-e60fb334c6c7",
        "colab": {
          "base_uri": "https://localhost:8080/",
          "height": 136
        }
      },
      "source": [
        "%%time\n",
        "from mlxtend.feature_selection import SequentialFeatureSelector as SFS\n",
        "from mlxtend.plotting import plot_sequential_feature_selection as plot_sfs\n",
        "\n",
        "X, y = prepare_data( df_train ) \n",
        "# add_linear for imp set - 5,20\n",
        "sfs1 = SFS(XGBClassifier(**get_best_params_xgbc()), \n",
        "           k_features=(20, 25), \n",
        "           forward=True,\n",
        "           floating=False, \n",
        "           verbose=2,\n",
        "           scoring='roc_auc', \n",
        "           cv=list(StratifiedKFold(n_splits=10, shuffle=True, random_state=RS).split(X,y)),\n",
        "           n_jobs=-1,\n",
        "           )\n",
        "\n",
        "sfs1 = sfs1.fit(X, y)\n",
        "\n",
        "plt.figure(figsize=(12, 9))\n",
        "fig1 = plot_sfs(sfs1.get_metric_dict(), kind='std_dev', marker='.', ylabel='Cross-validation score (roc_auc)')\n",
        "plt.title('Sequential Forward Floating Selection (StdDev)')\n",
        "plt.xlabel('Number of features tested')\n",
        "plt.ylabel('Cross-validation score (roc_auc)')\n",
        "plt.tight_layout()\n",
        "#plt.show()\n",
        "plt.show(block=False)\n",
        "\n",
        "print(sfs1.k_score_)\n",
        "#print(sfs1.k_feature_names_)\n",
        "print(f'Remove: {[x for x in X.columns if x not in sfs1.k_feature_names_]}')\n",
        " \n",
        "with open('SFS_set_linear_30fts_5f.txt', 'w') as text_file:\n",
        "  print(f'sfs1.k_score_: {sfs1.k_score_}', file=text_file)\n",
        "  print(f'sfs1.k_feature_names_: {sfs1.k_feature_names_}', file=text_file)\n",
        "  print(f'Remove: {[x for x in X.columns if x not in sfs1.k_feature_names_]}', file=text_file)\n",
        "  text_file.close()\n",
        "\n",
        "  files.download(text_file.name)"
      ],
      "execution_count": 0,
      "outputs": [
        {
          "output_type": "stream",
          "text": [
            "[Parallel(n_jobs=-1)]: Using backend LokyBackend with 2 concurrent workers.\n",
            "[Parallel(n_jobs=-1)]: Done  25 out of  25 | elapsed: 36.4min finished\n",
            "\n",
            "[2019-12-16 15:12:31] Features: 1/25 -- score: 0.6212087127747552[Parallel(n_jobs=-1)]: Using backend LokyBackend with 2 concurrent workers.\n",
            "[Parallel(n_jobs=-1)]: Done  24 out of  24 | elapsed: 29.5min finished\n",
            "\n",
            "[2019-12-16 15:42:00] Features: 2/25 -- score: 0.6668752274896088[Parallel(n_jobs=-1)]: Using backend LokyBackend with 2 concurrent workers.\n"
          ],
          "name": "stderr"
        }
      ]
    },
    {
      "cell_type": "code",
      "metadata": {
        "id": "ortFrS2bgU48",
        "colab_type": "code",
        "outputId": "a1f8d881-a856-4342-cf04-4c3beede8574",
        "colab": {
          "base_uri": "https://localhost:8080/",
          "height": 88
        }
      },
      "source": [
        "print(sfs1.k_score_)\n",
        "print(sfs1.k_feature_names_)\n",
        "print(f'Remove: {[x for x in X.columns if x not in sfs1.k_feature_names_]}')"
      ],
      "execution_count": 0,
      "outputs": [
        {
          "output_type": "stream",
          "text": [
            "0.6907866152645861\n",
            "('field0', 'field2', 'field4', 'field5', 'field6', 'field8', 'field9', 'field12', 'field14', 'field16', 'field18', 'field19', 'field21', 'field23', 'field24', 'field25', 'field26', 'field28')\n",
            "Remove: ['field1', 'field3', 'field7', 'field10', 'field11', 'field13', 'field15', 'field17', 'field20', 'field22', 'field27', 'field29']\n"
          ],
          "name": "stdout"
        }
      ]
    },
    {
      "cell_type": "markdown",
      "metadata": {
        "id": "WvRRf6Uq4zxX",
        "colab_type": "text"
      },
      "source": [
        "## 5 KFold estimation"
      ]
    },
    {
      "cell_type": "code",
      "metadata": {
        "id": "lC8g9y53syPd",
        "colab_type": "code",
        "colab": {
          "base_uri": "https://localhost:8080/",
          "height": 764
        },
        "outputId": "6f5eece1-5b85-4565-fef2-567784715dd5"
      },
      "source": [
        "%%time\n",
        "\n",
        "# XGBClassifier CV: 0.6863 ± 0.0080 OOF: 0.7024 ~['field5', 'field20', 'field18', 'field27', 'field29']\n",
        "# XGBClassifier CV: 0.6872 ± 0.0084 OOF: 0.7001 all fts\n",
        "# XGBClassifier CV: 0.6866 ± 0.0073 OOF: 0.7054 ~['field5', 'field20'] 0.67496 lb\n",
        "X, y = prepare_data(df_train)\n",
        "n_folds = 10\n",
        "        \n",
        "model = XGBClassifier(**get_best_params_xgbc())\n",
        "scores = cross_val_score(model, X, y, scoring='roc_auc', verbose=1, n_jobs=-1, \n",
        "                          cv=StratifiedKFold(n_splits=n_folds, shuffle=True, random_state=RS),\n",
        "                          )\n",
        "\n",
        "model.fit(X, y,\n",
        "        eval_set=[prepare_data(df_oof)],\n",
        "        early_stopping_rounds=200,\n",
        "        verbose=False,\n",
        "        eval_metric = 'auc', \n",
        "        #sample_weight=w_array,\n",
        "        )\n",
        "\n",
        "# estimate OOF\n",
        "print('{:} CV: {:.4f} ± {:.4f} OOF: {:.4f}'.format(type(model).__name__, np.mean(scores), np.std(scores), oof_estimate_plot(model)))\n",
        "# plot CV scores\n",
        "plt.figure()\n",
        "plt.xlabel(\"Number of folds\")\n",
        "plt.ylabel(\"Cross validation score\")\n",
        "plt.plot(range(1, len(scores) + 1), scores)\n",
        "plt.show()"
      ],
      "execution_count": 82,
      "outputs": [
        {
          "output_type": "stream",
          "text": [
            "[Parallel(n_jobs=-1)]: Using backend LokyBackend with 2 concurrent workers.\n",
            "[Parallel(n_jobs=-1)]: Done  10 out of  10 | elapsed:   56.1s finished\n"
          ],
          "name": "stderr"
        },
        {
          "output_type": "display_data",
          "data": {
            "image/png": "[encoded data removed]",
            "text/plain": [
              "<Figure size 1080x288 with 3 Axes>"
            ]
          },
          "metadata": {
            "tags": []
          }
        },
        {
          "output_type": "stream",
          "text": [
            "XGBClassifier CV: 0.6866 ± 0.0073 OOF: 0.7054\n"
          ],
          "name": "stdout"
        },
        {
          "output_type": "display_data",
          "data": {
            "image/png": "[encoded data removed]",
            "text/plain": [
              "<Figure size 432x432 with 1 Axes>"
            ]
          },
          "metadata": {
            "tags": []
          }
        },
        {
          "output_type": "stream",
          "text": [
            "CPU times: user 4.78 s, sys: 2.34 s, total: 7.12 s\n",
            "Wall time: 1min 3s\n"
          ],
          "name": "stdout"
        }
      ]
    },
    {
      "cell_type": "code",
      "metadata": {
        "id": "br4bsqNoTdv3",
        "colab_type": "code",
        "colab": {}
      },
      "source": [
        "# baseline: 0.6909 ± 0.0085.\n",
        "# XGBClassifier CV: 0.6885 ± 0.0078 OOF: 0.6852 - baseline\n",
        "# XGBClassifier CV: 0.6890 ± 0.0083 OOF: 0.6871 - ~['field5', 'field20']\n",
        "# XGBClassifier CV: 0.6884 ± 0.0090 OOF: 0.6878 - ~['field8', 'field10', 'field17']\n",
        "\n",
        "%%time\n",
        "X, y = prepare_data(df_train)\n",
        "\n",
        "\n",
        "try:\n",
        "  if len(models) > 0:\n",
        "    for m in models: del m\n",
        "    models = []\n",
        "except:\n",
        "  pass\n",
        "\n",
        "scores, models, neighbs, polies = fit_estimate(X, y,\n",
        "        #lambda: skl.ensemble.BaggingClassifier(XGBClassifier(**get_best_params_xgbc()), n_estimators=10, random_state=RS, oob_score=True),\n",
        "        lambda: XGBClassifier(**get_best_params_xgbc()), \n",
        "        n_folds=10, degree=0, n_neighbors=0) #, plot=True)\n",
        "\n",
        "model = models[np.argmax(scores)]\n",
        "#neigh = neighbs[np.argmax(scores)]\n",
        "\n",
        "del X"
      ],
      "execution_count": 0,
      "outputs": []
    },
    {
      "cell_type": "code",
      "metadata": {
        "id": "tIiYC5EA6DlY",
        "colab_type": "code",
        "colab": {}
      },
      "source": [
        "a = df_train.groupby('userid', as_index=False).count()\n",
        "a = a[a.field0 > 1]\n",
        "a = df_train.loc[df_train.userid.isin([*a.userid])]\n",
        "a.goal1.hist()"
      ],
      "execution_count": 0,
      "outputs": []
    },
    {
      "cell_type": "code",
      "metadata": {
        "id": "Y4o2DCtNwc8s",
        "colab_type": "code",
        "outputId": "0663a4a7-225b-4be6-ce92-ef01c05de06d",
        "colab": {
          "base_uri": "https://localhost:8080/",
          "height": 419
        }
      },
      "source": [
        "shap_sum = np.abs(shap_values).mean(axis=0)\n",
        "importance_df = pd.DataFrame([X.columns.tolist(), shap_sum.tolist()]).T\n",
        "importance_df.columns = ['column_name', 'shap_importance']\n",
        "importance_df = importance_df.sort_values('shap_importance', ascending=False)\n",
        "importance_df"
      ],
      "execution_count": 0,
      "outputs": [
        {
          "output_type": "execute_result",
          "data": {
            "text/html": [
              "<div>\n",
              "<style scoped>\n",
              "    .dataframe tbody tr th:only-of-type {\n",
              "        vertical-align: middle;\n",
              "    }\n",
              "\n",
              "    .dataframe tbody tr th {\n",
              "        vertical-align: top;\n",
              "    }\n",
              "\n",
              "    .dataframe thead th {\n",
              "        text-align: right;\n",
              "    }\n",
              "</style>\n",
              "<table border=\"1\" class=\"dataframe\">\n",
              "  <thead>\n",
              "    <tr style=\"text-align: right;\">\n",
              "      <th></th>\n",
              "      <th>column_name</th>\n",
              "      <th>shap_importance</th>\n",
              "    </tr>\n",
              "  </thead>\n",
              "  <tbody>\n",
              "    <tr>\n",
              "      <th>17</th>\n",
              "      <td>field7_field16</td>\n",
              "      <td>0.224827</td>\n",
              "    </tr>\n",
              "    <tr>\n",
              "      <th>22</th>\n",
              "      <td>field21_0</td>\n",
              "      <td>0.115388</td>\n",
              "    </tr>\n",
              "    <tr>\n",
              "      <th>34</th>\n",
              "      <td>field10_0</td>\n",
              "      <td>0.101748</td>\n",
              "    </tr>\n",
              "    <tr>\n",
              "      <th>19</th>\n",
              "      <td>field12_field16</td>\n",
              "      <td>0.088139</td>\n",
              "    </tr>\n",
              "    <tr>\n",
              "      <th>21</th>\n",
              "      <td>field12_field25</td>\n",
              "      <td>0.080946</td>\n",
              "    </tr>\n",
              "    <tr>\n",
              "      <th>...</th>\n",
              "      <td>...</td>\n",
              "      <td>...</td>\n",
              "    </tr>\n",
              "    <tr>\n",
              "      <th>35</th>\n",
              "      <td>field10_1</td>\n",
              "      <td>0.000000</td>\n",
              "    </tr>\n",
              "    <tr>\n",
              "      <th>32</th>\n",
              "      <td>field9_3</td>\n",
              "      <td>0.000000</td>\n",
              "    </tr>\n",
              "    <tr>\n",
              "      <th>51</th>\n",
              "      <td>field19_8</td>\n",
              "      <td>0.000000</td>\n",
              "    </tr>\n",
              "    <tr>\n",
              "      <th>50</th>\n",
              "      <td>field19_7</td>\n",
              "      <td>0.000000</td>\n",
              "    </tr>\n",
              "    <tr>\n",
              "      <th>33</th>\n",
              "      <td>field9_4</td>\n",
              "      <td>0.000000</td>\n",
              "    </tr>\n",
              "  </tbody>\n",
              "</table>\n",
              "<p>66 rows × 2 columns</p>\n",
              "</div>"
            ],
            "text/plain": [
              "        column_name shap_importance\n",
              "17   field7_field16        0.224827\n",
              "22        field21_0        0.115388\n",
              "34        field10_0        0.101748\n",
              "19  field12_field16        0.088139\n",
              "21  field12_field25        0.080946\n",
              "..              ...             ...\n",
              "35        field10_1        0.000000\n",
              "32         field9_3        0.000000\n",
              "51        field19_8        0.000000\n",
              "50        field19_7        0.000000\n",
              "33         field9_4        0.000000\n",
              "\n",
              "[66 rows x 2 columns]"
            ]
          },
          "metadata": {
            "tags": []
          },
          "execution_count": 87
        }
      ]
    },
    {
      "cell_type": "code",
      "metadata": {
        "id": "jCwD6STPh6j3",
        "colab_type": "code",
        "colab": {}
      },
      "source": [
        "import shap\n",
        "%time shap_values = shap.TreeExplainer(model).shap_values(X)\n",
        "shap.summary_plot(shap_values, X)"
      ],
      "execution_count": 0,
      "outputs": []
    },
    {
      "cell_type": "code",
      "metadata": {
        "id": "ZSsvEMC7iicd",
        "colab_type": "code",
        "outputId": "5edcb52b-a60f-4ada-fc0d-ad3c1dcf2a22",
        "colab": {
          "base_uri": "https://localhost:8080/",
          "height": 333
        }
      },
      "source": [
        "shap.dependence_plot(\"field26\", shap_values, X)"
      ],
      "execution_count": 0,
      "outputs": [
        {
          "output_type": "display_data",
          "data": {
            "image/png": "[encoded data removed]",
            "text/plain": [
              "<Figure size 540x360 with 2 Axes>"
            ]
          },
          "metadata": {
            "tags": []
          }
        }
      ]
    },
    {
      "cell_type": "code",
      "metadata": {
        "id": "Ko5822SeE8R7",
        "colab_type": "code",
        "colab": {}
      },
      "source": [
        "X, y = prepare_data( df_train )\n",
        "\n",
        "import seaborn as sns\n",
        "Y = X.head(2000)\n",
        "Y['goal1'] = y.values.ravel()\n",
        "sns.pairplot(Y, diag_kind=\"kde\")"
      ],
      "execution_count": 0,
      "outputs": []
    },
    {
      "cell_type": "markdown",
      "metadata": {
        "id": "EzWYeuumnJqo",
        "colab_type": "text"
      },
      "source": [
        "## SearchGridCV"
      ]
    },
    {
      "cell_type": "code",
      "metadata": {
        "id": "3f__OrAwLF7A",
        "colab_type": "code",
        "outputId": "bb97ce9a-01b3-42f1-e8c5-170f6bec6427",
        "colab": {
          "base_uri": "https://localhost:8080/",
          "height": 377
        }
      },
      "source": [
        "X, y = prepare_data( df_train )\n",
        "\n",
        "params = { \n",
        "  'metric': ['rmse', 'rmsle', 'mae', 'logloss', 'error', 'error@t', 'merror', \n",
        "                  'mlogloss', 'auc', 'aucpr', 'ndcg', 'map', 'ndcg@n', 'ndcg@n', \n",
        "                  'ndcg-', 'map-', 'ndcg@n-', 'ndcg@n-']\n",
        "\n",
        "  }\n",
        "\n",
        "gs = GridSearchCV(LGBMClassifier(**get_best_params_lgbm()),\n",
        "                  params, \n",
        "                  cv=KFold( n_splits = 5, shuffle=True, random_state=RS),\n",
        "                  verbose=10, \n",
        "                  n_jobs=-1,\n",
        "                  scoring='roc_auc')\n",
        "gs.fit(X, y)\n",
        "print( gs.best_params_ )\n",
        "print( gs.best_score_ )"
      ],
      "execution_count": 0,
      "outputs": [
        {
          "output_type": "stream",
          "text": [
            "Fitting 5 folds for each of 18 candidates, totalling 90 fits\n"
          ],
          "name": "stdout"
        },
        {
          "output_type": "stream",
          "text": [
            "[Parallel(n_jobs=-1)]: Using backend LokyBackend with 2 concurrent workers.\n",
            "[Parallel(n_jobs=-1)]: Done   1 tasks      | elapsed:    6.7s\n",
            "[Parallel(n_jobs=-1)]: Done   4 tasks      | elapsed:   11.6s\n",
            "[Parallel(n_jobs=-1)]: Done   9 tasks      | elapsed:   26.1s\n",
            "[Parallel(n_jobs=-1)]: Done  14 tasks      | elapsed:   35.6s\n",
            "[Parallel(n_jobs=-1)]: Done  21 tasks      | elapsed:   54.6s\n",
            "[Parallel(n_jobs=-1)]: Done  28 tasks      | elapsed:  1.2min\n",
            "[Parallel(n_jobs=-1)]: Done  37 tasks      | elapsed:  1.5min\n",
            "[Parallel(n_jobs=-1)]: Done  46 tasks      | elapsed:  1.9min\n",
            "[Parallel(n_jobs=-1)]: Done  57 tasks      | elapsed:  2.1min\n",
            "[Parallel(n_jobs=-1)]: Done  68 tasks      | elapsed:  2.4min\n",
            "[Parallel(n_jobs=-1)]: Done  81 tasks      | elapsed:  3.0min\n",
            "[Parallel(n_jobs=-1)]: Done  90 out of  90 | elapsed:  3.3min finished\n",
            "/usr/local/lib/python3.6/dist-packages/sklearn/preprocessing/_label.py:235: DataConversionWarning: A column-vector y was passed when a 1d array was expected. Please change the shape of y to (n_samples, ), for example using ravel().\n",
            "  y = column_or_1d(y, warn=True)\n",
            "/usr/local/lib/python3.6/dist-packages/sklearn/preprocessing/_label.py:268: DataConversionWarning: A column-vector y was passed when a 1d array was expected. Please change the shape of y to (n_samples, ), for example using ravel().\n",
            "  y = column_or_1d(y, warn=True)\n"
          ],
          "name": "stderr"
        },
        {
          "output_type": "stream",
          "text": [
            "{'metric': 'rmse'}\n",
            "0.6785321104213122\n"
          ],
          "name": "stdout"
        }
      ]
    },
    {
      "cell_type": "code",
      "metadata": {
        "id": "erxqkPlAMHZd",
        "colab_type": "code",
        "colab": {}
      },
      "source": [
        "X, y = prepare_data( df_train )\n",
        "\n",
        "X_train, X_cv, y_train, y_cv = train_test_split(X, y, random_state=RS, shuffle=True)\n",
        "\n",
        "model = XGBClassifier(**get_best_params()).fit(X, y.values.ravel())\n",
        "\n",
        "plot_permutation_importance(model, X_train, y_train, X_cv, y_cv)\n",
        "\n",
        "estimate(X, y, model);"
      ],
      "execution_count": 0,
      "outputs": []
    },
    {
      "cell_type": "code",
      "metadata": {
        "id": "tf05WtRH8aO9",
        "colab_type": "code",
        "outputId": "28c1e287-0b17-468a-f8bb-280dbab41e47",
        "colab": {
          "base_uri": "https://localhost:8080/",
          "height": 102
        }
      },
      "source": [
        "X.columns[sorted_idx]"
      ],
      "execution_count": 0,
      "outputs": [
        {
          "output_type": "execute_result",
          "data": {
            "text/plain": [
              "Index(['field5', 'field19', 'field7', 'field2', 'field15', 'field8', 'field20',\n",
              "       'field0', 'field16', 'field4', 'field9', 'field17', 'field18', 'field1',\n",
              "       'field14', 'field11', 'field12', 'field6', 'field21', 'field13',\n",
              "       'field3', 'field10'],\n",
              "      dtype='object')"
            ]
          },
          "metadata": {
            "tags": []
          },
          "execution_count": 40
        }
      ]
    },
    {
      "cell_type": "markdown",
      "metadata": {
        "id": "HmoOThUFogJp",
        "colab_type": "text"
      },
      "source": [
        "## RandomizedSearchCV"
      ]
    },
    {
      "cell_type": "code",
      "metadata": {
        "id": "aGZ4LHIWKizR",
        "colab_type": "code",
        "colab": {}
      },
      "source": [
        "%%time\n",
        "\n",
        "from scipy.stats import uniform as sp_randFloat\n",
        "from scipy.stats import randint as sp_randInt   \n",
        "import sklearn.ensemble\n",
        "\n",
        "X, y = prepare_data(df_train)\n",
        "\n",
        "params = {'base_score': sp_randFloat(),\n",
        " 'colsample_bylevel': sp_randFloat(),\n",
        " 'colsample_bynode': sp_randFloat(),\n",
        " 'colsample_bytree': sp_randFloat(),\n",
        " 'gamma': sp_randInt(0, 100),\n",
        " 'learning_rate': sp_randFloat(),\n",
        " 'max_delta_step': sp_randInt(0, 100),\n",
        " 'max_depth': sp_randInt(2, 10),\n",
        " 'min_child_weight': sp_randFloat(),\n",
        " 'n_estimators': sp_randInt(10, 500),\n",
        " 'reg_alpha': sp_randFloat(),\n",
        " 'reg_lambda': sp_randFloat(),\n",
        " 'scale_pos_weight': sp_randFloat(),\n",
        " 'subsample': sp_randFloat(),\n",
        " }\n",
        "\n",
        "params_lgbm = {\n",
        "  'colsample_bytree': sp_randFloat(),\n",
        "  'learning_rate': sp_randFloat(),\n",
        "  'max_depth': sp_randInt(2, 50),\n",
        "  'min_child_samples': sp_randInt(2, 50),\n",
        "  'min_child_weight': sp_randFloat(),\n",
        "  'min_split_gain': sp_randFloat(),\n",
        "  'n_estimators': sp_randInt(10, 500),\n",
        "  'num_leaves': sp_randInt(1, 200),\n",
        "  'reg_alpha': sp_randFloat(),\n",
        "  'reg_lambda': sp_randFloat(),\n",
        "  'subsample': sp_randFloat(),\n",
        "  'subsample_freq': sp_randInt(0, 50),\n",
        "  }\n",
        "\n",
        "#clf = LGBMClassifier(**get_best_params_lgbm())\n",
        "clf = XGBClassifier(**get_best_params_xgbc())\n",
        "rs = RandomizedSearchCV(clf, \n",
        "                        param_distributions=params, \n",
        "                        cv=5, \n",
        "                        verbose=1, \n",
        "                        n_iter=500, \n",
        "                        scoring='roc_auc',\n",
        "                        #n_jobs=-1\n",
        "                        )\n",
        "rs.fit(X, y.values.ravel())\n",
        "print( rs.best_params_ )\n",
        "print( rs.best_score_ )\n",
        "\n",
        "with open('Randomized_5f_200iter.txt', 'w') as text_file:\n",
        "  print(f\"best_score_: {rs.best_score_}\", file=text_file)\n",
        "  print(f\"best_params_: {rs.best_params_}\", file=text_file)\n",
        "  text_file.close()\n",
        "  files.download('Randomized_5f_200iter.txt')"
      ],
      "execution_count": 0,
      "outputs": []
    },
    {
      "cell_type": "code",
      "metadata": {
        "id": "cydNNhDINAwe",
        "colab_type": "code",
        "colab": {}
      },
      "source": [
        "rs.best_estimator_.get_params()"
      ],
      "execution_count": 0,
      "outputs": []
    },
    {
      "cell_type": "markdown",
      "metadata": {
        "id": "0xi9VzB6h7u3",
        "colab_type": "text"
      },
      "source": [
        "## Submit the result"
      ]
    },
    {
      "cell_type": "code",
      "metadata": {
        "id": "mFXWRNoh8jff",
        "colab_type": "code",
        "outputId": "da647287-ef8c-4c28-854a-c4967ebab37f",
        "colab": {
          "base_uri": "https://localhost:8080/",
          "height": 34
        }
      },
      "source": [
        "model.best_ntree_limit"
      ],
      "execution_count": 0,
      "outputs": [
        {
          "output_type": "execute_result",
          "data": {
            "text/plain": [
              "290"
            ]
          },
          "metadata": {
            "tags": []
          },
          "execution_count": 17
        }
      ]
    },
    {
      "cell_type": "code",
      "metadata": {
        "id": "tilQXYvPX0Te",
        "colab_type": "code",
        "outputId": "ec2d9a11-d53d-4062-e904-21282efd5119",
        "colab": {
          "base_uri": "https://localhost:8080/",
          "height": 34
        }
      },
      "source": [
        "X_test, _ = prepare_data( df_test )\n",
        "#X_test = add_neighbors_inner(X_test, neigh)\n",
        "\n",
        "if hasattr(model, 'best_ntree_limit'):\n",
        "  print(0)\n",
        "  proba = model.predict_proba(X_test, ntree_limit=model.best_ntree_limit)\n",
        "else:\n",
        "  print(1)\n",
        "  proba = model.predict_proba(X_test)\n",
        "\n",
        "pd.DataFrame(proba[:, 1], columns=['proba'], index=X_test.index.rename('orderid')).to_csv('sub1.csv')\n",
        "files.download('sub1.csv')"
      ],
      "execution_count": 83,
      "outputs": [
        {
          "output_type": "stream",
          "text": [
            "0\n"
          ],
          "name": "stdout"
        }
      ]
    },
    {
      "cell_type": "code",
      "metadata": {
        "id": "N1gZa086VoPJ",
        "colab_type": "code",
        "colab": {}
      },
      "source": [
        "!zip sub1.csv.zip sub1.csv\n",
        "files.download(\"/content/sub1.csv.zip\")"
      ],
      "execution_count": 0,
      "outputs": []
    },
    {
      "cell_type": "code",
      "metadata": {
        "id": "mW6Kam8PxOsc",
        "colab_type": "code",
        "colab": {}
      },
      "source": [
        "pd.DataFrame(proba[:, 1], columns=['proba'], index=X_test.index.rename('orderid'))"
      ],
      "execution_count": 0,
      "outputs": []
    },
    {
      "cell_type": "code",
      "metadata": {
        "id": "2FPXzRKkpDpK",
        "colab_type": "code",
        "colab": {}
      },
      "source": [
        "!pip3 install -q eli5\n",
        "import eli5\n",
        "from eli5.sklearn import PermutationImportance"
      ],
      "execution_count": 0,
      "outputs": []
    },
    {
      "cell_type": "code",
      "metadata": {
        "id": "M9I19vzV0_ol",
        "colab_type": "code",
        "outputId": "09eb434e-4d5c-4367-89f0-8b6a53ae5c09",
        "colab": {
          "base_uri": "https://localhost:8080/",
          "height": 34
        }
      },
      "source": [
        "!pip3 install -q catboost\n",
        "from catboost import CatBoostClassifier"
      ],
      "execution_count": 0,
      "outputs": [
        {
          "output_type": "stream",
          "text": [
            "\u001b[K     |████████████████████████████████| 63.6MB 124kB/s \n",
            "\u001b[?25h"
          ],
          "name": "stdout"
        }
      ]
    },
    {
      "cell_type": "code",
      "metadata": {
        "id": "edhEzIlEiFcx",
        "colab_type": "code",
        "colab": {}
      },
      "source": [
        "!pip install -q shap"
      ],
      "execution_count": 0,
      "outputs": []
    },
    {
      "cell_type": "code",
      "metadata": {
        "id": "eJdO_ncqbnXF",
        "colab_type": "code",
        "colab": {}
      },
      "source": [
        "kepler = pd.read_csv(\"../input/cumulative.csv\")\n",
        "kepler = (kepler\n",
        "     .drop(['rowid', 'kepid'], axis='columns')\n",
        "     .rename(columns={'koi_disposition': 'disposition', 'koi_pdisposition': 'predisposition'})\n",
        "     .pipe(lambda df: df.assign(disposition=(df.disposition == 'CONFIRMED').astype(int), predisposition=(df.predisposition == 'CANDIDATE').astype(int)))\n",
        "     .pipe(lambda df: df.loc[:, df.dtypes.values != np.dtype('O')])  # drop str columns\n",
        "     .pipe(lambda df: df.loc[:, (df.isnull().sum(axis='rows') < 500).where(lambda v: v).dropna().index.values])  # drop columns with greater than 500 null values\n",
        "     .dropna()\n",
        ")\n",
        "\n",
        "kepler_X = kepler.iloc[:, 1:]\n",
        "kepler_y = kepler.iloc[:, 0]"
      ],
      "execution_count": 0,
      "outputs": []
    }
  ]
}